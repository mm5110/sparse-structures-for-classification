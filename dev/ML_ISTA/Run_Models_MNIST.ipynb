{
 "cells": [
  {
   "cell_type": "code",
   "execution_count": 1,
   "metadata": {},
   "outputs": [],
   "source": [
    "import torch\n",
    "import torch.nn as nn\n",
    "from torch.autograd import Variable\n",
    "import torch.utils.data as Data\n",
    "import torch.nn.functional as F\n",
    "import torchvision\n",
    "import matplotlib.pyplot as plt\n",
    "from matplotlib import cm\n",
    "import numpy as np\n",
    "import time\n",
    "import progressbar\n",
    "import importlib\n",
    "# torch.manual_seed(1)    # reproducible\n",
    "plt.style.use('default')\n",
    "%matplotlib inline\n",
    "\n",
    "import pdb\n",
    "\n",
    "import Models_MNIST as mds\n",
    "\n",
    "# Hyper Parameters\n",
    "EPOCH = 100\n",
    "BATCH_SIZE = 256\n",
    "DOWNLOAD_MNIST = False\n",
    "m1 = 64\n",
    "m2 = 128\n",
    "m3 = 512\n",
    "cudaopt = True\n",
    "\n",
    "EPS = 1e-4\n",
    "\n",
    "# Mnist digits dataset\n",
    "train_data = torchvision.datasets.MNIST(\n",
    "    root='../data',\n",
    "    train=True,                                     # this is training data\n",
    "    transform=torchvision.transforms.ToTensor(),    # Converts a PIL.Image or numpy.ndarray to\n",
    "                                                    # torch.FloatTensor of shape (C x H x W) and normalize in the range [0.0, 1.0]\n",
    "    download=True,                        # download it if you don't have it\n",
    ")\n",
    "\n",
    "# LIMITING TRAINING DATA\n",
    "Ntrain = int(60e3)\n",
    "train_set = np.random.permutation(60000)[0:Ntrain]\n",
    "train_data.train_data = train_data.train_data[torch.LongTensor(train_set),:,:]\n",
    "train_data.train_labels = train_data.train_labels[torch.LongTensor(train_set)]\n",
    "\n",
    "test_data = torchvision.datasets.MNIST(\n",
    "    root='../data',\n",
    "    train=False,                                     # this is testing data\n",
    "    transform=torchvision.transforms.ToTensor(),    # Converts a PIL.Image or numpy.ndarray to\n",
    "                                                    # torch.FloatTensor of shape (C x H x W) and normalize in the range [0.0, 1.0]\n",
    "    download=True,                        # download it if you don't have it\n",
    ")\n",
    "\n",
    "# Data Loader for easy mini-batch return in training, the image batch shape will be (50, 1, 28, 28)\n",
    "train_loader = Data.DataLoader(dataset=train_data, batch_size=BATCH_SIZE, shuffle=True)\n",
    "test_loader = Data.DataLoader(dataset=test_data, batch_size=BATCH_SIZE, shuffle=True)"
   ]
  },
  {
   "cell_type": "code",
   "execution_count": 2,
   "metadata": {},
   "outputs": [
    {
     "data": {
      "text/plain": [
       "[<matplotlib.lines.Line2D at 0x7f658d273d30>]"
      ]
     },
     "execution_count": 2,
     "metadata": {},
     "output_type": "execute_result"
    },
    {
     "data": {
      "image/png": "[encoded data removed]",
      "text/plain": [
       "<Figure size 432x288 with 1 Axes>"
      ]
     },
     "metadata": {},
     "output_type": "display_data"
    }
   ],
   "source": [
    "x = np.linspace(1,EPOCH,EPOCH)\n",
    "Rhos = 1/(1+np.exp(-(x- EPOCH*6/9 )*.2))\n",
    "plt.plot(Rhos)"
   ]
  },
  {
   "cell_type": "markdown",
   "metadata": {},
   "source": [
    "### Model Baseline"
   ]
  },
  {
   "cell_type": "code",
   "execution_count": 3,
   "metadata": {},
   "outputs": [
    {
     "name": "stdout",
     "output_type": "stream",
     "text": [
      "\n",
      "\t\t\t\t\tTraining Baseline\n",
      "\n"
     ]
    },
    {
     "name": "stderr",
     "output_type": "stream",
     "text": [
      "/ |#                                                  | 0 Elapsed Time: 0:00:00/anaconda/envs/mlvm/lib/python3.6/site-packages/ipykernel/__main__.py:39: UserWarning: invalid index of a 0-dim tensor. This will be an error in PyTorch 0.5. Use tensor.item() to convert a 0-dim tensor to a Python number\n"
     ]
    },
    {
     "ename": "KeyboardInterrupt",
     "evalue": "",
     "output_type": "error",
     "traceback": [
      "\u001b[0;31m---------------------------------------------------------------------------\u001b[0m",
      "\u001b[0;31mKeyboardInterrupt\u001b[0m                         Traceback (most recent call last)",
      "\u001b[0;32m<ipython-input-3-89ab4c21b5ab>\u001b[0m in \u001b[0;36m<module>\u001b[0;34m()\u001b[0m\n\u001b[1;32m     31\u001b[0m     \u001b[0mcorrect\u001b[0m \u001b[0;34m=\u001b[0m \u001b[0;36m0\u001b[0m\u001b[0;34m\u001b[0m\u001b[0m\n\u001b[1;32m     32\u001b[0m     \u001b[0mtest_loss\u001b[0m \u001b[0;34m=\u001b[0m \u001b[0;36m0\u001b[0m\u001b[0;34m\u001b[0m\u001b[0m\n\u001b[0;32m---> 33\u001b[0;31m     \u001b[0;32mfor\u001b[0m \u001b[0mstep\u001b[0m\u001b[0;34m,\u001b[0m \u001b[0;34m(\u001b[0m\u001b[0mx\u001b[0m\u001b[0;34m,\u001b[0m \u001b[0my\u001b[0m\u001b[0;34m)\u001b[0m \u001b[0;32min\u001b[0m \u001b[0menumerate\u001b[0m\u001b[0;34m(\u001b[0m\u001b[0mtest_loader\u001b[0m\u001b[0;34m)\u001b[0m\u001b[0;34m:\u001b[0m\u001b[0;34m\u001b[0m\u001b[0m\n\u001b[0m\u001b[1;32m     34\u001b[0m         \u001b[0mb_x\u001b[0m \u001b[0;34m=\u001b[0m \u001b[0mVariable\u001b[0m\u001b[0;34m(\u001b[0m\u001b[0mx\u001b[0m\u001b[0;34m)\u001b[0m   \u001b[0;31m# batch x, shape (batch, 28*28)\u001b[0m\u001b[0;34m\u001b[0m\u001b[0m\n\u001b[1;32m     35\u001b[0m         \u001b[0mb_y\u001b[0m \u001b[0;34m=\u001b[0m \u001b[0mVariable\u001b[0m\u001b[0;34m(\u001b[0m\u001b[0my\u001b[0m\u001b[0;34m)\u001b[0m               \u001b[0;31m# batch label\u001b[0m\u001b[0;34m\u001b[0m\u001b[0m\n",
      "\u001b[0;32m/anaconda/envs/mlvm/lib/python3.6/site-packages/torch/utils/data/dataloader.py\u001b[0m in \u001b[0;36m__next__\u001b[0;34m(self)\u001b[0m\n\u001b[1;32m    262\u001b[0m         \u001b[0;32mif\u001b[0m \u001b[0mself\u001b[0m\u001b[0;34m.\u001b[0m\u001b[0mnum_workers\u001b[0m \u001b[0;34m==\u001b[0m \u001b[0;36m0\u001b[0m\u001b[0;34m:\u001b[0m  \u001b[0;31m# same-process loading\u001b[0m\u001b[0;34m\u001b[0m\u001b[0m\n\u001b[1;32m    263\u001b[0m             \u001b[0mindices\u001b[0m \u001b[0;34m=\u001b[0m \u001b[0mnext\u001b[0m\u001b[0;34m(\u001b[0m\u001b[0mself\u001b[0m\u001b[0;34m.\u001b[0m\u001b[0msample_iter\u001b[0m\u001b[0;34m)\u001b[0m  \u001b[0;31m# may raise StopIteration\u001b[0m\u001b[0;34m\u001b[0m\u001b[0m\n\u001b[0;32m--> 264\u001b[0;31m             \u001b[0mbatch\u001b[0m \u001b[0;34m=\u001b[0m \u001b[0mself\u001b[0m\u001b[0;34m.\u001b[0m\u001b[0mcollate_fn\u001b[0m\u001b[0;34m(\u001b[0m\u001b[0;34m[\u001b[0m\u001b[0mself\u001b[0m\u001b[0;34m.\u001b[0m\u001b[0mdataset\u001b[0m\u001b[0;34m[\u001b[0m\u001b[0mi\u001b[0m\u001b[0;34m]\u001b[0m \u001b[0;32mfor\u001b[0m \u001b[0mi\u001b[0m \u001b[0;32min\u001b[0m \u001b[0mindices\u001b[0m\u001b[0;34m]\u001b[0m\u001b[0;34m)\u001b[0m\u001b[0;34m\u001b[0m\u001b[0m\n\u001b[0m\u001b[1;32m    265\u001b[0m             \u001b[0;32mif\u001b[0m \u001b[0mself\u001b[0m\u001b[0;34m.\u001b[0m\u001b[0mpin_memory\u001b[0m\u001b[0;34m:\u001b[0m\u001b[0;34m\u001b[0m\u001b[0m\n\u001b[1;32m    266\u001b[0m                 \u001b[0mbatch\u001b[0m \u001b[0;34m=\u001b[0m \u001b[0mpin_memory_batch\u001b[0m\u001b[0;34m(\u001b[0m\u001b[0mbatch\u001b[0m\u001b[0;34m)\u001b[0m\u001b[0;34m\u001b[0m\u001b[0m\n",
      "\u001b[0;32m/anaconda/envs/mlvm/lib/python3.6/site-packages/torch/utils/data/dataloader.py\u001b[0m in \u001b[0;36m<listcomp>\u001b[0;34m(.0)\u001b[0m\n\u001b[1;32m    262\u001b[0m         \u001b[0;32mif\u001b[0m \u001b[0mself\u001b[0m\u001b[0;34m.\u001b[0m\u001b[0mnum_workers\u001b[0m \u001b[0;34m==\u001b[0m \u001b[0;36m0\u001b[0m\u001b[0;34m:\u001b[0m  \u001b[0;31m# same-process loading\u001b[0m\u001b[0;34m\u001b[0m\u001b[0m\n\u001b[1;32m    263\u001b[0m             \u001b[0mindices\u001b[0m \u001b[0;34m=\u001b[0m \u001b[0mnext\u001b[0m\u001b[0;34m(\u001b[0m\u001b[0mself\u001b[0m\u001b[0;34m.\u001b[0m\u001b[0msample_iter\u001b[0m\u001b[0;34m)\u001b[0m  \u001b[0;31m# may raise StopIteration\u001b[0m\u001b[0;34m\u001b[0m\u001b[0m\n\u001b[0;32m--> 264\u001b[0;31m             \u001b[0mbatch\u001b[0m \u001b[0;34m=\u001b[0m \u001b[0mself\u001b[0m\u001b[0;34m.\u001b[0m\u001b[0mcollate_fn\u001b[0m\u001b[0;34m(\u001b[0m\u001b[0;34m[\u001b[0m\u001b[0mself\u001b[0m\u001b[0;34m.\u001b[0m\u001b[0mdataset\u001b[0m\u001b[0;34m[\u001b[0m\u001b[0mi\u001b[0m\u001b[0;34m]\u001b[0m \u001b[0;32mfor\u001b[0m \u001b[0mi\u001b[0m \u001b[0;32min\u001b[0m \u001b[0mindices\u001b[0m\u001b[0;34m]\u001b[0m\u001b[0;34m)\u001b[0m\u001b[0;34m\u001b[0m\u001b[0m\n\u001b[0m\u001b[1;32m    265\u001b[0m             \u001b[0;32mif\u001b[0m \u001b[0mself\u001b[0m\u001b[0;34m.\u001b[0m\u001b[0mpin_memory\u001b[0m\u001b[0;34m:\u001b[0m\u001b[0;34m\u001b[0m\u001b[0m\n\u001b[1;32m    266\u001b[0m                 \u001b[0mbatch\u001b[0m \u001b[0;34m=\u001b[0m \u001b[0mpin_memory_batch\u001b[0m\u001b[0;34m(\u001b[0m\u001b[0mbatch\u001b[0m\u001b[0;34m)\u001b[0m\u001b[0;34m\u001b[0m\u001b[0m\n",
      "\u001b[0;32m/anaconda/envs/mlvm/lib/python3.6/site-packages/torchvision-0.2.1-py3.6.egg/torchvision/datasets/mnist.py\u001b[0m in \u001b[0;36m__getitem__\u001b[0;34m(self, index)\u001b[0m\n\u001b[1;32m     72\u001b[0m         \u001b[0;31m# doing this so that it is consistent with all other datasets\u001b[0m\u001b[0;34m\u001b[0m\u001b[0;34m\u001b[0m\u001b[0m\n\u001b[1;32m     73\u001b[0m         \u001b[0;31m# to return a PIL Image\u001b[0m\u001b[0;34m\u001b[0m\u001b[0;34m\u001b[0m\u001b[0m\n\u001b[0;32m---> 74\u001b[0;31m         \u001b[0mimg\u001b[0m \u001b[0;34m=\u001b[0m \u001b[0mImage\u001b[0m\u001b[0;34m.\u001b[0m\u001b[0mfromarray\u001b[0m\u001b[0;34m(\u001b[0m\u001b[0mimg\u001b[0m\u001b[0;34m.\u001b[0m\u001b[0mnumpy\u001b[0m\u001b[0;34m(\u001b[0m\u001b[0;34m)\u001b[0m\u001b[0;34m,\u001b[0m \u001b[0mmode\u001b[0m\u001b[0;34m=\u001b[0m\u001b[0;34m'L'\u001b[0m\u001b[0;34m)\u001b[0m\u001b[0;34m\u001b[0m\u001b[0m\n\u001b[0m\u001b[1;32m     75\u001b[0m \u001b[0;34m\u001b[0m\u001b[0m\n\u001b[1;32m     76\u001b[0m         \u001b[0;32mif\u001b[0m \u001b[0mself\u001b[0m\u001b[0;34m.\u001b[0m\u001b[0mtransform\u001b[0m \u001b[0;32mis\u001b[0m \u001b[0;32mnot\u001b[0m \u001b[0;32mNone\u001b[0m\u001b[0;34m:\u001b[0m\u001b[0;34m\u001b[0m\u001b[0m\n",
      "\u001b[0;32m/anaconda/envs/mlvm/lib/python3.6/site-packages/PIL/Image.py\u001b[0m in \u001b[0;36mfromarray\u001b[0;34m(obj, mode)\u001b[0m\n\u001b[1;32m   2419\u001b[0m     \u001b[0;34m.\u001b[0m\u001b[0;34m.\u001b[0m \u001b[0mversionadded\u001b[0m\u001b[0;34m:\u001b[0m\u001b[0;34m:\u001b[0m \u001b[0;36m1.1\u001b[0m\u001b[0;36m.6\u001b[0m\u001b[0;34m\u001b[0m\u001b[0m\n\u001b[1;32m   2420\u001b[0m     \"\"\"\n\u001b[0;32m-> 2421\u001b[0;31m     \u001b[0marr\u001b[0m \u001b[0;34m=\u001b[0m \u001b[0mobj\u001b[0m\u001b[0;34m.\u001b[0m\u001b[0m__array_interface__\u001b[0m\u001b[0;34m\u001b[0m\u001b[0m\n\u001b[0m\u001b[1;32m   2422\u001b[0m     \u001b[0mshape\u001b[0m \u001b[0;34m=\u001b[0m \u001b[0marr\u001b[0m\u001b[0;34m[\u001b[0m\u001b[0;34m'shape'\u001b[0m\u001b[0;34m]\u001b[0m\u001b[0;34m\u001b[0m\u001b[0m\n\u001b[1;32m   2423\u001b[0m     \u001b[0mndim\u001b[0m \u001b[0;34m=\u001b[0m \u001b[0mlen\u001b[0m\u001b[0;34m(\u001b[0m\u001b[0mshape\u001b[0m\u001b[0;34m)\u001b[0m\u001b[0;34m\u001b[0m\u001b[0m\n",
      "\u001b[0;31mKeyboardInterrupt\u001b[0m: "
     ]
    }
   ],
   "source": [
    "Loss_test_0 = np.zeros((EPOCH,))\n",
    "Acc_test_0 = np.zeros((EPOCH,))\n",
    "\n",
    "print('\\n\\t\\t\\t\\t\\tTraining Baseline\\n')\n",
    "    \n",
    "model = mds.ML_ISTA_NET(m1,m2,m3)\n",
    "if cudaopt:\n",
    "    model.cuda()\n",
    "\n",
    "optimizer = torch.optim.Adam(model.parameters(), lr = 0.0001, eps = EPS)\n",
    "bar = progressbar.ProgressBar()\n",
    "\n",
    "for epoch in range(EPOCH):\n",
    "\n",
    "    bar.update((epoch+1)/EPOCH*100)\n",
    "    # train 1 epoch\n",
    "    model.train()\n",
    "    for step, (x, y) in enumerate(train_loader):\n",
    "        b_x = Variable(x)   # batch x, shape (batch, 28*28)\n",
    "        b_y = Variable(y)               # batch label\n",
    "        if cudaopt:\n",
    "            b_y, b_x = b_y.cuda(), b_x.cuda()\n",
    "        encoded, scores = model(b_x)\n",
    "        loss = F.nll_loss(scores, b_y)      # negative log likelyhood\n",
    "        optimizer.zero_grad()               # clear gradients for this training step\n",
    "        loss.backward()                     # backpropagation, compute gradients\n",
    "        optimizer.step()                    # apply gradients\n",
    "\n",
    "    # testing\n",
    "    model.eval()\n",
    "    correct = 0\n",
    "    test_loss = 0\n",
    "    for step, (x, y) in enumerate(test_loader):\n",
    "        b_x = Variable(x)   # batch x, shape (batch, 28*28)\n",
    "        b_y = Variable(y)               # batch label\n",
    "        if cudaopt:\n",
    "            b_y, b_x = b_y.cuda(), b_x.cuda()\n",
    "        gamma, scores = model(b_x)\n",
    "        test_loss += F.nll_loss(scores, b_y, size_average=False).data[0]\n",
    "        pred = scores.data.max(1, keepdim=True)[1]\n",
    "        correct += pred.eq(b_y.data.view_as(pred)).long().cpu().sum()\n",
    "        \n",
    "    test_loss /= len(test_loader.dataset)\n",
    "    Loss_test_0[epoch] = test_loss\n",
    "    Acc_test_0[epoch] =  100 * float(correct) /float(len(test_loader.dataset))\n",
    "    \n",
    "torch.save(model.state_dict(), 'cnn_model.pt')"
   ]
  },
  {
   "cell_type": "markdown",
   "metadata": {},
   "source": [
    "### ML-JISTA TESTING"
   ]
  },
  {
   "cell_type": "code",
   "execution_count": null,
   "metadata": {},
   "outputs": [],
   "source": [
    "# importlib.reload(mds)\n",
    "\n",
    "# T = 0\n",
    "# RHO =  float(Rhos[0])\n",
    "\n",
    "# dataiter = iter(train_loader)\n",
    "# x, labels = dataiter.next()\n",
    "\n",
    "# model = mds.ML_JISTA_NET(m1,m2,m3)\n",
    "# x = Variable(x)# batch x, shape (batch, 28*28)\n",
    "# labels = Variable(labels)\n",
    "# # print(x.shape)\n",
    "# # print(labels.shape)\n",
    "\n",
    "# temp = np.empty(labels.shape[0])\n",
    "# # print(temp.shape)\n",
    "\n",
    "# encoded, scores, sorted_labels = model.joint_train(x, labels, T, RHO)\n",
    "\n",
    "# # print(scores.shape)\n",
    "# # print(sorted_labels.shape)\n",
    "# # print(type(scores))\n",
    "# # print(type(sorted_labels))\n",
    "\n",
    "# loss = F.nll_loss(scores, sorted_labels)  \n",
    "# optimizer.zero_grad()               \n",
    "# loss.backward()                     \n",
    "# optimizer.step()\n",
    "\n",
    "# X1 = torch.rand(4,6,1,1)\n",
    "# X1_dims = list(X1.shape)\n",
    "# X1_mat = X1.view(-1, X1_dims[1])\n",
    "# st_factors = 1-2/(torch.sum(X1_mat**2, dim=0))\n",
    "# st_factors_mat = torch.diag(st_factors)\n",
    "# X2_mat = F.relu(torch.t(torch.mm(st_factors_mat, torch.t(X1_mat))))\n",
    "# X2 = X2_mat.view(X1_dims[0], X1_dims[1], X1_dims[2], X1_dims[3])\n",
    "# print(X1_mat)\n",
    "# print(X2_mat)"
   ]
  },
  {
   "cell_type": "markdown",
   "metadata": {},
   "source": [
    "### ML-JISTA"
   ]
  },
  {
   "cell_type": "code",
   "execution_count": null,
   "metadata": {},
   "outputs": [],
   "source": [
    "importlib.reload(mds)\n",
    "\n",
    "Loss_test_ista_r = np.zeros((EPOCH,))\n",
    "Acc_test_jista_r = np.zeros((EPOCH,))\n",
    "\n",
    "print('\\n\\t\\t\\t\\t\\tTraining ML-JISTA \\n')\n",
    "\n",
    "T = 4  # number of unfoldings/iterations of ml-ista\n",
    "\n",
    "model = mds.ML_JISTA_NET(m1,m2,m3)\n",
    "if cudaopt:\n",
    "    model.cuda()\n",
    "\n",
    "optimizer = torch.optim.Adam(model.parameters(), lr = 0.0001, eps = EPS)\n",
    "bar = progressbar.ProgressBar()\n",
    "\n",
    "for epoch in range(EPOCH):\n",
    "#     print(\"Epoch: \" + str(int(epoch)))\n",
    "    bar.update((epoch+1)/EPOCH*100)\n",
    "    # train 1 epoch\n",
    "    model.train()\n",
    "    \n",
    "    RHO =  float(Rhos[epoch])\n",
    "    \n",
    "    for step, (x, y) in enumerate(train_loader):\n",
    "        b_x = Variable(x)   # batch x, shape (batch, 28*28)\n",
    "        b_y = Variable(y)               # batch label\n",
    "        if cudaopt:\n",
    "            b_y, b_x = b_y.cuda(), b_x.cuda()\n",
    "        encoded, scores, sorted_labels = model.joint_train(b_x, b_y, T, RHO)\n",
    "#         print(type(sorted_labels))\n",
    "        sorted_labels = sorted_labels.type(torch.cuda.LongTensor)\n",
    "#         scores = scores.type(torch.cuda.LongTensor)\n",
    "#         print(type(sorted_labels))\n",
    "        scores.type(torch.cuda.LongTensor)\n",
    "#         print(scores.shape)\n",
    "#         print(b_y.shape)\n",
    "        \n",
    "        loss = F.nll_loss(scores, sorted_labels)      # negative log likelyhood\n",
    "        optimizer.zero_grad()               # clear gradients for this training step\n",
    "        loss.backward()                     # backpropagation, compute gradients\n",
    "        optimizer.step()                    # apply gradients\n",
    "#         print(loss)\n",
    "    # testing\n",
    "    model.eval()\n",
    "    correct = 0\n",
    "    test_loss = 0\n",
    "    for step, (x, y) in enumerate(test_loader):\n",
    "        b_x = Variable(x)   # batch x, shape (batch, 28*28)\n",
    "        b_y = Variable(y)               # batch label\n",
    "        if cudaopt:\n",
    "            b_y, b_x = b_y.cuda(), b_x.cuda()\n",
    "        gamma, scores = model.forward(b_x,T,RHO)\n",
    "        test_loss += F.nll_loss(scores, b_y, size_average=False).data[0]\n",
    "        pred = scores.data.max(1, keepdim=True)[1]\n",
    "        correct += pred.eq(b_y.data.view_as(pred)).long().cpu().sum()\n",
    "        \n",
    "    test_loss /= len(test_loader.dataset)\n",
    "    Loss_test_ista_r[epoch] = test_loss\n",
    "    Acc_test_jista_r[epoch] =  100 * float(correct) /float(len(test_loader.dataset))\n",
    "#     print(\"Performance at epoch \" + str(int(epoch)) + \": \" + str(Acc_test_ista_r[epoch]))\n",
    "    \n",
    "torch.save(model.state_dict(), 'mljista_model.pt')"
   ]
  },
  {
   "cell_type": "markdown",
   "metadata": {},
   "source": [
    "### ML-ISTA"
   ]
  },
  {
   "cell_type": "code",
   "execution_count": null,
   "metadata": {},
   "outputs": [],
   "source": [
    "Loss_test_ista_r = np.zeros((EPOCH,))\n",
    "Acc_test_ista_r = np.zeros((EPOCH,))\n",
    "\n",
    "print('\\n\\t\\t\\t\\t\\tTraining ML-ISTA \\n')\n",
    "\n",
    "T = 4  # number of unfoldings/iterations of ml-ista\n",
    "\n",
    "model = mds.ML_ISTA_NET(m1,m2,m3)\n",
    "if cudaopt:\n",
    "    model.cuda()\n",
    "\n",
    "optimizer = torch.optim.Adam(model.parameters(), lr = 0.0001, eps = EPS)\n",
    "bar = progressbar.ProgressBar()\n",
    "\n",
    "for epoch in range(EPOCH):\n",
    "#     print(\"Epoch: \" + str(int(epoch)))\n",
    "    bar.update((epoch+1)/EPOCH*100)\n",
    "    # train 1 epoch\n",
    "    model.train()\n",
    "    \n",
    "    RHO =  float(Rhos[epoch])\n",
    "    \n",
    "    for step, (x, y) in enumerate(train_loader):\n",
    "        b_x = Variable(x)   # batch x, shape (batch, 28*28)\n",
    "        b_y = Variable(y)               # batch label\n",
    "        if cudaopt:\n",
    "            b_y, b_x = b_y.cuda(), b_x.cuda()\n",
    "        encoded, scores = model(b_x,T,RHO)\n",
    "        \n",
    "#         print(scores.shape)\n",
    "#         print(b_y.shape)\n",
    "        \n",
    "        loss = F.nll_loss(scores, b_y)      # negative log likelyhood\n",
    "        optimizer.zero_grad()               # clear gradients for this training step\n",
    "        loss.backward()                     # backpropagation, compute gradients\n",
    "        optimizer.step()                    # apply gradients\n",
    "\n",
    "    # testing\n",
    "    model.eval()\n",
    "    correct = 0\n",
    "    test_loss = 0\n",
    "    for step, (x, y) in enumerate(test_loader):\n",
    "        b_x = Variable(x)   # batch x, shape (batch, 28*28)\n",
    "        b_y = Variable(y)               # batch label\n",
    "        if cudaopt:\n",
    "            b_y, b_x = b_y.cuda(), b_x.cuda()\n",
    "        gamma, scores = model(b_x,T,RHO)\n",
    "        test_loss += F.nll_loss(scores, b_y, size_average=False).data[0]\n",
    "        pred = scores.data.max(1, keepdim=True)[1]\n",
    "        correct += pred.eq(b_y.data.view_as(pred)).long().cpu().sum()\n",
    "        \n",
    "    test_loss /= len(test_loader.dataset)\n",
    "    Loss_test_ista_r[epoch] = test_loss\n",
    "    Acc_test_ista_r[epoch] =  100 * float(correct) /float(len(test_loader.dataset))\n",
    "    \n",
    "torch.save(model.state_dict(), 'mlista_model.pt')"
   ]
  },
  {
   "cell_type": "markdown",
   "metadata": {
    "slideshow": {
     "slide_type": "-"
    }
   },
   "source": [
    "### ML-FISTA "
   ]
  },
  {
   "cell_type": "code",
   "execution_count": null,
   "metadata": {
    "slideshow": {
     "slide_type": "-"
    }
   },
   "outputs": [],
   "source": [
    "Loss_test_fista_r = np.zeros((EPOCH,))\n",
    "Acc_test_fista_r = np.zeros((EPOCH,))\n",
    "\n",
    "print('\\n\\t\\t\\t\\t\\tTraining ML-FISTA \\n')\n",
    "\n",
    "model = mds.ML_FISTA_NET(m1,m2,m3)\n",
    "if cudaopt:\n",
    "    model.cuda()\n",
    "\n",
    "optimizer = torch.optim.Adam(model.parameters(), lr = 0.0001, eps = EPS)\n",
    "bar = progressbar.ProgressBar()\n",
    "\n",
    "for epoch in range(EPOCH):\n",
    "\n",
    "    bar.update((epoch+1)/EPOCH*100)\n",
    "    # train 1 epoch\n",
    "    model.train()\n",
    "    \n",
    "    RHO = float(Rhos[epoch])\n",
    "    \n",
    "    for step, (x, y) in enumerate(train_loader):\n",
    "        b_x = Variable(x)   # batch x, shape (batch, 28*28)\n",
    "        b_y = Variable(y)               # batch label\n",
    "        if cudaopt:\n",
    "            b_y, b_x = b_y.cuda(), b_x.cuda()\n",
    "        encoded, scores = model(b_x,T,RHO)\n",
    "        loss = F.nll_loss(scores, b_y)      # negative log likelyhood\n",
    "        optimizer.zero_grad()               # clear gradients for this training step\n",
    "        loss.backward()                     # backpropagation, compute gradients\n",
    "        optimizer.step()                    # apply gradients\n",
    "\n",
    "    # testing\n",
    "    model.eval()\n",
    "    correct = 0\n",
    "    test_loss = 0\n",
    "    for step, (x, y) in enumerate(test_loader):\n",
    "        b_x = Variable(x)   # batch x, shape (batch, 28*28)\n",
    "        b_y = Variable(y)               # batch label\n",
    "        if cudaopt:\n",
    "            b_y, b_x = b_y.cuda(), b_x.cuda()\n",
    "        gamma, scores = model(b_x,T,RHO)\n",
    "        test_loss += F.nll_loss(scores, b_y, size_average=False).data[0]\n",
    "        pred = scores.data.max(1, keepdim=True)[1]\n",
    "        correct += pred.eq(b_y.data.view_as(pred)).long().cpu().sum()\n",
    "        \n",
    "    test_loss /= len(test_loader.dataset)\n",
    "    Loss_test_fista_r[epoch] = test_loss\n",
    "    Acc_test_fista_r[epoch] =  100 * float(correct) /float(len(test_loader.dataset))"
   ]
  },
  {
   "cell_type": "code",
   "execution_count": null,
   "metadata": {
    "slideshow": {
     "slide_type": "-"
    }
   },
   "outputs": [],
   "source": [
    "fig = plt.figure(figsize=(8,6))\n",
    "plt.style.use('default')\n",
    "plt.plot(Acc_test_0, linewidth = 2,label='baseline')\n",
    "plt.plot(Acc_test_ista_r, linewidth = 2,label = 'ML-ISTA')\n",
    "plt.plot(Acc_test_jista_r, linewidth = 2,label = 'ML-JISTA')\n",
    "# plt.plot(Acc_test_fista_r, linewidth = 2,label = 'ML-FISTA')\n",
    "\n",
    "plt.grid('on')\n",
    "plt.title('Test Accuracy - 4 Unfoldings')\n",
    "plt.legend()\n",
    "plt.axis([0, 100, 95, 100])\n",
    "plt.show()"
   ]
  },
  {
   "cell_type": "code",
   "execution_count": null,
   "metadata": {},
   "outputs": [],
   "source": []
  }
 ],
 "metadata": {
  "kernelspec": {
   "display_name": "Python [default]",
   "language": "python",
   "name": "python3"
  },
  "language_info": {
   "codemirror_mode": {
    "name": "ipython",
    "version": 3
   },
   "file_extension": ".py",
   "mimetype": "text/x-python",
   "name": "python",
   "nbconvert_exporter": "python",
   "pygments_lexer": "ipython3",
   "version": "3.6.6"
  }
 },
 "nbformat": 4,
 "nbformat_minor": 2
}
