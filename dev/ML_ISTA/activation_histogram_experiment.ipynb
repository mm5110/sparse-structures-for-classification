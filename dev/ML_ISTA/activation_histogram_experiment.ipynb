{
 "cells": [
  {
   "cell_type": "markdown",
   "metadata": {},
   "source": [
    "## Load in data"
   ]
  },
  {
   "cell_type": "code",
   "execution_count": 1,
   "metadata": {},
   "outputs": [],
   "source": [
    "import torch\n",
    "import torch.nn as nn\n",
    "from torch.autograd import Variable\n",
    "import torch.utils.data as Data\n",
    "import torch.nn.functional as F\n",
    "import torchvision\n",
    "import matplotlib.pyplot as plt\n",
    "from matplotlib import cm\n",
    "import numpy as np\n",
    "import time\n",
    "import progressbar\n",
    "import importlib\n",
    "# torch.manual_seed(1)    # reproducible\n",
    "plt.style.use('default')\n",
    "%matplotlib inline\n",
    "\n",
    "import pdb\n",
    "\n",
    "import Models_MNIST as mds\n",
    "\n",
    "# Hyper Parameters\n",
    "EPOCH = 3\n",
    "BATCH_SIZE = 256\n",
    "DOWNLOAD_MNIST = False\n",
    "\n",
    "m1 = 64\n",
    "m2 = 128\n",
    "m3 = 500\n",
    "cudaopt = True\n",
    "\n",
    "EPS = 1e-4\n",
    "\n",
    "# Mnist digits dataset\n",
    "train_data = torchvision.datasets.MNIST(\n",
    "    root='../data',\n",
    "    train=True,                                     # this is training data\n",
    "    transform=torchvision.transforms.ToTensor(),    # Converts a PIL.Image or numpy.ndarray to\n",
    "                                                    # torch.FloatTensor of shape (C x H x W) and normalize in the range [0.0, 1.0]\n",
    "    download=True,                        # download it if you don't have it\n",
    ")\n",
    "\n",
    "# LIMITING TRAINING DATA\n",
    "Ntrain = int(60e3)\n",
    "train_set = np.random.permutation(60000)[0:Ntrain]\n",
    "train_data.train_data = train_data.train_data[torch.LongTensor(train_set),:,:]\n",
    "train_data.train_labels = train_data.train_labels[torch.LongTensor(train_set)]\n",
    "\n",
    "test_data = torchvision.datasets.MNIST(\n",
    "    root='../data',\n",
    "    train=False,                                     # this is testing data\n",
    "    transform=torchvision.transforms.ToTensor(),    # Converts a PIL.Image or numpy.ndarray to\n",
    "                                                    # torch.FloatTensor of shape (C x H x W) and normalize in the range [0.0, 1.0]\n",
    "    download=True,                        # download it if you don't have it\n",
    ")\n",
    "\n",
    "# Data Loader for easy mini-batch return in training, the image batch shape will be (50, 1, 28, 28)\n",
    "train_loader = Data.DataLoader(dataset=train_data, batch_size=BATCH_SIZE, shuffle=True)\n",
    "test_loader = Data.DataLoader(dataset=test_data, batch_size=BATCH_SIZE, shuffle=True)"
   ]
  },
  {
   "cell_type": "markdown",
   "metadata": {},
   "source": [
    "##  Define normal neural network model"
   ]
  },
  {
   "cell_type": "code",
   "execution_count": 2,
   "metadata": {},
   "outputs": [],
   "source": [
    "class neural_net(nn.Module):\n",
    "    def __init__(self,m1,m2,m3):\n",
    "        super(neural_net, self).__init__()\n",
    "        \n",
    "        # Convolutional Filters\n",
    "        self.W1 = nn.Parameter(torch.randn(m1,1,6,6), requires_grad=True)\n",
    "        self.strd1 = 2;\n",
    "        self.W2 = nn.Parameter(torch.randn(m2,m1,6,6), requires_grad=True)\n",
    "        self.strd2 = 2;\n",
    "        self.W3 = nn.Parameter(torch.randn(m3,m2,4,4), requires_grad=True)\n",
    "        self.strd3 = 1;\n",
    "        \n",
    "        # Biases / Thresholds\n",
    "        self.b1 = nn.Parameter(torch.zeros(1,m1,1,1), requires_grad=True)\n",
    "        self.b2 = nn.Parameter(torch.zeros(1,m2,1,1), requires_grad=True)\n",
    "        self.b3 = nn.Parameter(torch.zeros(1,m3,1,1), requires_grad=True)\n",
    "        \n",
    "        # Classifier\n",
    "        self.Wclass = nn.Linear(m3, 10)\n",
    "        \n",
    "        # Initialization\n",
    "        self.W1.data = 0.01 * self.W1.data\n",
    "        self.W2.data = 0.01 * self.W2.data\n",
    "        self.W3.data = 0.01 * self.W3.data\n",
    "        \n",
    "    def forward(self, x):    \n",
    "        # Encoding\n",
    "        gamma1 = F.relu(F.conv2d(x,self.W1, stride = self.strd1) + self.b1)\n",
    "        gamma2 = F.relu(F.conv2d(gamma1,self.W2, stride = self.strd2) + self.b2) \n",
    "        gamma3 = F.relu(F.conv2d(gamma2,self.W3, stride = self.strd3) + self.b3)                  \n",
    "        # classifier\n",
    "        gamma = gamma3.view(gamma3.shape[0],gamma3.shape[1]*gamma3.shape[2]*gamma3.shape[3])\n",
    "        out = self.Wclass(gamma)\n",
    "        scores = F.log_softmax(out, dim = 1)    \n",
    "        return gamma, scores, gamma1.data.cpu().numpy(), gamma2.data.cpu().numpy(), gamma3.data.cpu().numpy()"
   ]
  },
  {
   "cell_type": "markdown",
   "metadata": {},
   "source": [
    "## Define joint neural network model"
   ]
  },
  {
   "cell_type": "code",
   "execution_count": 43,
   "metadata": {},
   "outputs": [],
   "source": [
    "class joint_neural_net(nn.Module):\n",
    "    def __init__(self,m1,m2,m3):\n",
    "        super(joint_neural_net, self).__init__()\n",
    "        \n",
    "        # Convolutional Filters\n",
    "        self.W1 = nn.Parameter(torch.randn(m1,1,6,6), requires_grad=True)\n",
    "        self.strd1 = 2;\n",
    "        self.W2 = nn.Parameter(torch.randn(m2,m1,6,6), requires_grad=True)\n",
    "        self.strd2 = 2;\n",
    "        self.W3 = nn.Parameter(torch.randn(m3,m2,4,4), requires_grad=True)\n",
    "        self.strd3 = 1;\n",
    "        \n",
    "        # Biases / Thresholds\n",
    "        self.b1 = nn.Parameter(torch.zeros(1,m1,1,1), requires_grad=True)\n",
    "        self.b2 = nn.Parameter(torch.zeros(1,m2,1,1), requires_grad=True)\n",
    "        self.b3 = nn.Parameter(torch.zeros(1,m3,1,1), requires_grad=True)\n",
    "        \n",
    "        # Classifier\n",
    "        self.Wclass = nn.Linear(m3, 10)\n",
    "        \n",
    "        # Initialization\n",
    "        self.W1.data = 0.01 * self.W1.data\n",
    "        self.W2.data = 0.01 * self.W2.data\n",
    "        self.W3.data = 0.01 * self.W3.data\n",
    "        \n",
    "    def forward(self, x):    \n",
    "        # Encoding\n",
    "        gamma1 = F.relu(F.conv2d(x,self.W1, stride = self.strd1) + self.b1)\n",
    "        gamma2 = F.relu(F.conv2d(gamma1,self.W2, stride = self.strd2) + self.b2) \n",
    "        gamma3 = F.relu(F.conv2d(gamma2,self.W3, stride = self.strd3))                  \n",
    "        # classifier\n",
    "        gamma = gamma3.view(gamma3.shape[0],gamma3.shape[1]*gamma3.shape[2]*gamma3.shape[3])\n",
    "        out = self.Wclass(gamma)\n",
    "        scores = F.log_softmax(out, dim = 1)    \n",
    "        return gamma, scores, gamma1.data.cpu().numpy(), gamma2.data.cpu().numpy(), gamma3.data.cpu().numpy()\n",
    "    \n",
    "    def joint_train(self, x, labels):\n",
    "        # print(\"Running joint training\")\n",
    "        # Initialise dics to contain sorted data\n",
    "        label_bin_data = {\"0\":[], \"1\":[], \"2\":[], \"3\":[], \"4\":[], \"5\":[], \"6\":[], \"7\":[], \"8\":[], \"9\":[]} # Dictionary of lists of tensors\n",
    "        data_by_class = {} # Dictionary of tensors\n",
    "        encoded_by_class = {} # Dictionary of tensors\n",
    "        scores_by_class = {} # Dictionary of lists\n",
    "        sorted_labels = np.empty(labels.shape[0])\n",
    "        index = 0\n",
    "        # Sort data by its label class into a dictionary of lists which contain the data point tensors\n",
    "        for i in range(labels.shape[0]):\n",
    "            label_bin_data[str(int(labels[i].item()))].append(x[i,:,:,:])\n",
    "        # Turn each list of tensors in the dictionary into a tensor\n",
    "        first = True\n",
    "        for key, tensor_list in label_bin_data.items():\n",
    "            # print(key)\n",
    "            # print(len(label_bin_data[key]))\n",
    "            if len(label_bin_data[key]) > 0:\n",
    "                sorted_labels[index:index+len(label_bin_data[key])] = int(key)*np.ones(len(label_bin_data[key]))\n",
    "                index = index+len(label_bin_data[key])\n",
    "                data_by_class[key] = torch.stack(label_bin_data[key], dim=0)\n",
    "                encoded_by_class[key], scores_by_class[key] = self.joint_forward(data_by_class[key])\n",
    "                if first == True:\n",
    "                    scores = scores_by_class[key]\n",
    "                    first = False\n",
    "                else:\n",
    "                    scores = torch.cat((scores, scores_by_class[key]), 0)\n",
    "        return encoded_by_class, scores, torch.from_numpy(sorted_labels).type(torch.LongTensor)\n",
    "    \n",
    "\n",
    "    def joint_forward(self,x):   \n",
    "        # Encoding\n",
    "        gamma1 = F.relu(F.conv2d(x,self.W1, stride = self.strd1) + self.b1)       # first estimation\n",
    "        gamma2 = F.relu(F.conv2d(gamma1,self.W2, stride = self.strd2) + self.b2)\n",
    "        \n",
    "        # Encourage joint sparisty in the final layer sparse layer encoding\n",
    "        X1 = F.conv2d(gamma2,self.W3, stride = self.strd3)\n",
    "        X1_dims = list(X1.shape)\n",
    "        X1_mat = X1.view(-1, X1_dims[1])\n",
    "        st_factors = 1-torch.squeeze(self.b3)*1/(torch.sum(X1_mat**2, dim=0))\n",
    "        st_factors_mat = torch.diag(st_factors)\n",
    "        X2_mat = torch.t(torch.mm(st_factors_mat, torch.t(X1_mat)))\n",
    "        X2 = X2_mat.view(X1_dims[0], X1_dims[1], X1_dims[2], X1_dims[3])    \n",
    "        gamma3 = F.relu(X2)\n",
    "            \n",
    "        # classifier\n",
    "        gamma = gamma3.view(gamma3.shape[0],gamma3.shape[1]*gamma3.shape[2]*gamma3.shape[3])\n",
    "        out = self.Wclass(gamma)\n",
    "        out = F.log_softmax(out,dim = 1)\n",
    "    \n",
    "        return gamma, out\n",
    "    "
   ]
  },
  {
   "cell_type": "markdown",
   "metadata": {},
   "source": [
    "## Define testing function"
   ]
  },
  {
   "cell_type": "code",
   "execution_count": 4,
   "metadata": {},
   "outputs": [],
   "source": [
    "def test(model, x, labels):\n",
    "    # Initialise dics to contain sorted data\n",
    "    label_bin_data = {\"0\":[], \"1\":[], \"2\":[], \"3\":[], \"4\":[], \"5\":[], \"6\":[], \"7\":[], \"8\":[], \"9\":[]} # Dictionary of lists of tensors\n",
    "    data_by_class = {} # Dictionary of tensors\n",
    "    encoded_by_class = {} # Dictionary of tensors\n",
    "    scores_by_class = {} # Dictionary of lists\n",
    "    sorted_labels = np.empty(labels.shape[0])\n",
    "    index = 0\n",
    "    \n",
    "    activations_count1 = {}\n",
    "    activations_count2 = {}\n",
    "    activations_count3 = {}\n",
    "    \n",
    "    # Sort data by its label class into a dictionary of lists which contain the data point tensors\n",
    "    for i in range(labels.shape[0]):\n",
    "        label_bin_data[str(int(labels[i].item()))].append(x[i,:,:,:])\n",
    "    # Turn each list of tensors in the dictionary into a tensor\n",
    "    first = True\n",
    "    for key, tensor_list in label_bin_data.items():\n",
    "        if len(label_bin_data[key]) > 0:\n",
    "            sorted_labels[index:index+len(label_bin_data[key])] = int(key)*np.ones(len(label_bin_data[key]))\n",
    "            index = index+len(label_bin_data[key])\n",
    "            data_by_class[key] = torch.stack(label_bin_data[key], dim=0)\n",
    "            encoded_by_class[key], scores_by_class[key], gamma1, gamma2, gamma3 = model(data_by_class[key])\n",
    "            activations_count1[key] = count_activations(gamma1, m1)\n",
    "            activations_count2[key] = count_activations(gamma2, m2)\n",
    "            activations_count3[key] = count_activations(gamma3, m3)\n",
    "            if first == True:\n",
    "                scores = scores_by_class[key]\n",
    "                first = False\n",
    "            else:\n",
    "                scores = torch.cat((scores, scores_by_class[key]), 0)\n",
    "    return encoded_by_class, scores, torch.from_numpy(sorted_labels).type(torch.LongTensor), activations_count1, activations_count2, activations_count3\n",
    "\n",
    "\n",
    "\n",
    "def count_activations(gamma, numb_nodes, tol=1e-4):\n",
    "    gamma_dims = list(gamma.shape)\n",
    "    gamma[gamma<tol]=0\n",
    "    gamma[gamma>=tol]=1\n",
    "    activations = np.sum(gamma, axis=3)\n",
    "    activations = np.sum(activations, axis=2)\n",
    "    activations = np.sum(activations, axis=0)\n",
    "    return activations\n",
    "    "
   ]
  },
  {
   "cell_type": "markdown",
   "metadata": {},
   "source": [
    "## Train baseline neural network"
   ]
  },
  {
   "cell_type": "code",
   "execution_count": 13,
   "metadata": {
    "scrolled": true
   },
   "outputs": [
    {
     "name": "stderr",
     "output_type": "stream",
     "text": [
      "\r",
      "                                                                               \r",
      "\r",
      "/ |#                                                  | 0 Elapsed Time: 0:00:00"
     ]
    },
    {
     "name": "stdout",
     "output_type": "stream",
     "text": [
      "\n",
      "\t\t\t\t\tTraining Baseline Neural Network Model\n",
      "\n"
     ]
    },
    {
     "name": "stderr",
     "output_type": "stream",
     "text": [
      "/anaconda/envs/mlvm/lib/python3.6/site-packages/ipykernel/__main__.py:52: UserWarning: invalid index of a 0-dim tensor. This will be an error in PyTorch 0.5. Use tensor.item() to convert a 0-dim tensor to a Python number\n",
      "\\ |#                                                | 100 Elapsed Time: 0:00:19"
     ]
    }
   ],
   "source": [
    "Loss_test_nn = np.zeros((EPOCH,))\n",
    "Acc_test_nn = np.zeros((EPOCH,))\n",
    "\n",
    "print('\\n\\t\\t\\t\\t\\tTraining Baseline Neural Network Model\\n')\n",
    "    \n",
    "model = neural_net(m1,m2,m3)\n",
    "\n",
    "activations_count1_nn = {\"0\": np.zeros(m1), \"1\":np.zeros(m1), \"2\":np.zeros(m1), \"3\":np.zeros(m1), \"4\":np.zeros(m1), \"5\":np.zeros(m1), \"6\":np.zeros(m1), \"7\":np.zeros(m1), \"8\":np.zeros(m1), \"9\":np.zeros(m1)}\n",
    "activations_count2_nn = {\"0\": np.zeros(m2), \"1\":np.zeros(m2), \"2\":np.zeros(m2), \"3\":np.zeros(m2), \"4\":np.zeros(m2), \"5\":np.zeros(m2), \"6\":np.zeros(m2), \"7\":np.zeros(m2), \"8\":np.zeros(m2), \"9\":np.zeros(m2)}\n",
    "activations_count3_nn = {\"0\": np.zeros(m3), \"1\":np.zeros(m3), \"2\":np.zeros(m3), \"3\":np.zeros(m3), \"4\":np.zeros(m3), \"5\":np.zeros(m3), \"6\":np.zeros(m3), \"7\":np.zeros(m3), \"8\":np.zeros(m3), \"9\":np.zeros(m3)}\n",
    "\n",
    "if cudaopt:\n",
    "    model.cuda()\n",
    "\n",
    "optimizer = torch.optim.Adam(model.parameters(), lr = 0.0001, eps = 1e-7)\n",
    "bar = progressbar.ProgressBar()\n",
    "\n",
    "for epoch in range(EPOCH):\n",
    "\n",
    "    bar.update((epoch+1)/EPOCH*100)\n",
    "    # train 1 epoch\n",
    "    model.train()\n",
    "    for step, (x, y) in enumerate(train_loader):\n",
    "        b_x = Variable(x)   # batch x, shape (batch, 28*28)\n",
    "        b_y = Variable(y)               # batch label\n",
    "        if cudaopt:\n",
    "            b_y, b_x = b_y.cuda(), b_x.cuda()\n",
    "        encoded,scores,_,_,_ = model(b_x)\n",
    "        loss = F.nll_loss(scores, b_y)      # negative log likelyhood\n",
    "        optimizer.zero_grad()               # clear gradients for this training step\n",
    "        loss.backward()                     # backpropagation, compute gradients\n",
    "        optimizer.step()                    # apply gradients      \n",
    "            \n",
    "    # testing\n",
    "    model.eval()\n",
    "    correct = 0\n",
    "    test_loss = 0\n",
    "    for step, (x, y) in enumerate(test_loader):\n",
    "        b_x = Variable(x)   # batch x, shape (batch, 28*28)\n",
    "        b_y = Variable(y)               # batch label\n",
    "        if cudaopt:\n",
    "            b_y, b_x = b_y.cuda(), b_x.cuda()\n",
    "#         encoded_by_class, scores, sorted_labels, activations1, activations2, activations3 = test(model, b_x, b_y)\n",
    "        gamma, scores,_,_,_ = model(b_x)\n",
    "#         sorted_labels = sorted_labels.type(torch.cuda.LongTensor)\n",
    "#         for key, tensor_list in activations1.items():\n",
    "#             activations_count1_nn[key] += activations1[key]\n",
    "#             activations_count2_nn[key] += activations2[key]\n",
    "#             activations_count3_nn[key] += activations3[key]\n",
    "                \n",
    "#         test_loss += F.nll_loss(scores, sorted_labels, size_average=False).data[0]\n",
    "        test_loss += F.nll_loss(scores, b_y, size_average=False).data[0]        \n",
    "        pred = scores.data.max(1, keepdim=True)[1]\n",
    "        correct += pred.eq(b_y.data.view_as(pred)).long().cpu().sum()\n",
    "        \n",
    "    test_loss /= len(test_loader.dataset)\n",
    "    Loss_test_nn[epoch] = test_loss\n",
    "    Acc_test_nn[epoch] =  100 * float(correct) /float(len(test_loader.dataset))\n",
    "    \n",
    "torch.save(model.state_dict(), 'cnn_model.pt')"
   ]
  },
  {
   "cell_type": "markdown",
   "metadata": {},
   "source": [
    "## Train Joint Neural Network"
   ]
  },
  {
   "cell_type": "code",
   "execution_count": 44,
   "metadata": {},
   "outputs": [
    {
     "name": "stderr",
     "output_type": "stream",
     "text": [
      "\r",
      "                                                                               \r",
      "\r",
      "/ |#                                                  | 0 Elapsed Time: 0:00:00"
     ]
    },
    {
     "name": "stdout",
     "output_type": "stream",
     "text": [
      "\n",
      "\t\t\t\t\tTraining Joint Neural Network Model\n",
      "\n"
     ]
    },
    {
     "name": "stderr",
     "output_type": "stream",
     "text": [
      "/anaconda/envs/mlvm/lib/python3.6/site-packages/ipykernel/__main__.py:54: UserWarning: invalid index of a 0-dim tensor. This will be an error in PyTorch 0.5. Use tensor.item() to convert a 0-dim tensor to a Python number\n",
      "\\ |                                 #               | 100 Elapsed Time: 0:00:35"
     ]
    }
   ],
   "source": [
    "Loss_test_jnn = np.zeros((EPOCH,))\n",
    "Acc_test_jnn = np.zeros((EPOCH,))\n",
    "\n",
    "print('\\n\\t\\t\\t\\t\\tTraining Joint Neural Network Model\\n')\n",
    "    \n",
    "model_jnn = joint_neural_net(m1,m2,m3)\n",
    "\n",
    "activations_count1_jnn = {\"0\": np.zeros(m1), \"1\":np.zeros(m1), \"2\":np.zeros(m1), \"3\":np.zeros(m1), \"4\":np.zeros(m1), \"5\":np.zeros(m1), \"6\":np.zeros(m1), \"7\":np.zeros(m1), \"8\":np.zeros(m1), \"9\":np.zeros(m1)}\n",
    "activations_count2_jnn = {\"0\": np.zeros(m2), \"1\":np.zeros(m2), \"2\":np.zeros(m2), \"3\":np.zeros(m2), \"4\":np.zeros(m2), \"5\":np.zeros(m2), \"6\":np.zeros(m2), \"7\":np.zeros(m2), \"8\":np.zeros(m2), \"9\":np.zeros(m2)}\n",
    "activations_count3_jnn = {\"0\": np.zeros(m3), \"1\":np.zeros(m3), \"2\":np.zeros(m3), \"3\":np.zeros(m3), \"4\":np.zeros(m3), \"5\":np.zeros(m3), \"6\":np.zeros(m3), \"7\":np.zeros(m3), \"8\":np.zeros(m3), \"9\":np.zeros(m3)}\n",
    "\n",
    "if cudaopt:\n",
    "    model_jnn.cuda()\n",
    "\n",
    "optimizer = torch.optim.Adam(model_jnn.parameters(), lr = 0.0001, eps = 1e-7)\n",
    "bar = progressbar.ProgressBar()\n",
    "\n",
    "for epoch in range(EPOCH):\n",
    "\n",
    "    bar.update((epoch+1)/EPOCH*100)\n",
    "    # train 1 epoch\n",
    "    model_jnn.train()\n",
    "    for step, (x, y) in enumerate(train_loader):\n",
    "        b_x = Variable(x)   # batch x, shape (batch, 28*28)\n",
    "        b_y = Variable(y)               # batch label\n",
    "        if cudaopt:\n",
    "            b_y, b_x = b_y.cuda(), b_x.cuda()\n",
    "        encoded, scores, sorted_labels = model_jnn.joint_train(b_x, b_y)\n",
    "        sorted_labels = sorted_labels.type(torch.cuda.LongTensor)\n",
    "        loss = F.nll_loss(scores, sorted_labels)      # negative log likelyhood\n",
    "#         print(loss)\n",
    "        optimizer.zero_grad()               # clear gradients for this training step\n",
    "        loss.backward()                     # backpropagation, compute gradients\n",
    "        optimizer.step()                    # apply gradients      \n",
    "            \n",
    "    # testing\n",
    "    model_jnn.eval()\n",
    "    correct = 0\n",
    "    test_loss = 0\n",
    "    for step, (x, y) in enumerate(test_loader):\n",
    "        b_x = Variable(x)   # batch x, shape (batch, 28*28)\n",
    "        b_y = Variable(y)               # batch label\n",
    "        if cudaopt:\n",
    "            b_y, b_x = b_y.cuda(), b_x.cuda()\n",
    "#         encoded_by_class, scores, sorted_labels, activations1, activations2, activations3 = test(model, b_x, b_y)\n",
    "        gamma,scores,_,_,_ = model_jnn.forward(b_x)\n",
    "#         sorted_labels = sorted_labels.type(torch.cuda.LongTensor)\n",
    "#         for key, tensor_list in activations1.items():\n",
    "#             activations_count1_nn[key] += activations1[key]\n",
    "#             activations_count2_nn[key] += activations2[key]\n",
    "#             activations_count3_nn[key] += activations3[key]\n",
    "                \n",
    "#         test_loss += F.nll_loss(scores, sorted_labels, size_average=False).data[0]\n",
    "        test_loss += F.nll_loss(scores, b_y, size_average=False).data[0]\n",
    "#         print(test_loss)\n",
    "        pred = scores.data.max(1, keepdim=True)[1]\n",
    "#         print(pred)\n",
    "        correct += pred.eq(sorted_labels.data.view_as(pred)).long().cpu().sum()\n",
    "        \n",
    "    test_loss /= len(test_loader.dataset)\n",
    "    Loss_test_jnn[epoch] = test_loss\n",
    "    Acc_test_jnn[epoch] =  100 * float(correct) /float(len(test_loader.dataset))\n",
    "    \n",
    "torch.save(model.state_dict(), 'jcnn_model.pt')"
   ]
  },
  {
   "cell_type": "code",
   "execution_count": 41,
   "metadata": {},
   "outputs": [
    {
     "name": "stderr",
     "output_type": "stream",
     "text": [
      "\r",
      "                                                                               \r",
      "\r",
      "/ |#                                                  | 0 Elapsed Time: 0:00:00"
     ]
    },
    {
     "name": "stdout",
     "output_type": "stream",
     "text": [
      "\n",
      "\t\t\t\t\tTraining JNN \n",
      "\n"
     ]
    },
    {
     "name": "stderr",
     "output_type": "stream",
     "text": [
      "/anaconda/envs/mlvm/lib/python3.6/site-packages/ipykernel/__main__.py:42: UserWarning: invalid index of a 0-dim tensor. This will be an error in PyTorch 0.5. Use tensor.item() to convert a 0-dim tensor to a Python number\n",
      "\\ |                               #                 | 100 Elapsed Time: 0:00:36"
     ]
    }
   ],
   "source": [
    "Loss_test_jnn = np.zeros((EPOCH,))\n",
    "Acc_test_jnn = np.zeros((EPOCH,))\n",
    "\n",
    "print('\\n\\t\\t\\t\\t\\tTraining JNN \\n')\n",
    "\n",
    "T = 0  # number of unfoldings/iterations of ml-ista\n",
    "\n",
    "model = joint_neural_net(m1,m2,m3)\n",
    "if cudaopt:\n",
    "    model.cuda()\n",
    "\n",
    "optimizer = torch.optim.Adam(model.parameters(), lr = 0.0001, eps = EPS)\n",
    "bar = progressbar.ProgressBar()\n",
    "\n",
    "for epoch in range(EPOCH):\n",
    "    bar.update((epoch+1)/EPOCH*100)\n",
    "    # train 1 epoch\n",
    "    model.train()\n",
    "    \n",
    "    for step, (x, y) in enumerate(train_loader):\n",
    "        b_x = Variable(x)   # batch x, shape (batch, 28*28)\n",
    "        b_y = Variable(y)               # batch label\n",
    "        if cudaopt:\n",
    "            b_y, b_x = b_y.cuda(), b_x.cuda()\n",
    "        encoded, scores, sorted_labels = model.joint_train(b_x, b_y)\n",
    "        sorted_labels = sorted_labels.type(torch.cuda.LongTensor)       \n",
    "        loss = F.nll_loss(scores, sorted_labels)      # negative log likelyhood\n",
    "        optimizer.zero_grad()               # clear gradients for this training step\n",
    "        loss.backward()                     # backpropagation, compute gradients\n",
    "        optimizer.step()                    # apply gradients\n",
    "\n",
    "    # testing\n",
    "    model.eval()\n",
    "    correct = 0\n",
    "    test_loss = 0\n",
    "    for step, (x, y) in enumerate(test_loader):\n",
    "        b_x = Variable(x)   # batch x, shape (batch, 28*28)\n",
    "        b_y = Variable(y)               # batch label\n",
    "        if cudaopt:\n",
    "            b_y, b_x = b_y.cuda(), b_x.cuda()\n",
    "        gamma,scores,_,_,_ = model.forward(b_x)\n",
    "        test_loss += F.nll_loss(scores, b_y, size_average=False).data[0]\n",
    "        pred = scores.data.max(1, keepdim=True)[1]\n",
    "        correct += pred.eq(b_y.data.view_as(pred)).long().cpu().sum()\n",
    "        \n",
    "    test_loss /= len(test_loader.dataset)\n",
    "    Loss_test_jnn[epoch] = test_loss\n",
    "    Acc_test_jnn[epoch] =  100 * float(correct) /float(len(test_loader.dataset))\n",
    "#     print(\"Performance at epoch \" + str(int(epoch)) + \": \" + str(Acc_test_ista_r[epoch]))\n",
    "    \n",
    "torch.save(model.state_dict(), 'jnn_model.pt')"
   ]
  },
  {
   "cell_type": "markdown",
   "metadata": {},
   "source": [
    "## Accuracy and test performance"
   ]
  },
  {
   "cell_type": "code",
   "execution_count": 45,
   "metadata": {},
   "outputs": [
    {
     "name": "stderr",
     "output_type": "stream",
     "text": [
      "/anaconda/envs/mlvm/lib/python3.6/site-packages/matplotlib/cbook/deprecation.py:107: MatplotlibDeprecationWarning: Passing one of 'on', 'true', 'off', 'false' as a boolean is deprecated; use an actual boolean (True/False) instead.\n",
      "  warnings.warn(message, mplDeprecation, stacklevel=1)\n"
     ]
    },
    {
     "data": {
      "image/png": "[encoded data removed]",
      "text/plain": [
       "<Figure size 800x600 with 1 Axes>"
      ]
     },
     "metadata": {},
     "output_type": "display_data"
    }
   ],
   "source": [
    "fig = plt.figure(figsize=(8,6))\n",
    "plt.style.use('default')\n",
    "plt.plot(Acc_test_nn, linewidth = 2,label='Normal')\n",
    "plt.plot(Acc_test_jnn, linewidth = 2,label = 'Joint')\n",
    "plt.grid('on')\n",
    "plt.title('Test Accuracy')\n",
    "\n",
    "plt.ylabel('Classification accuracy %')\n",
    "plt.xlabel('# Epochs')\n",
    "plt.legend()\n",
    "plt.axis([0, EPOCH-1, 0, 100])\n",
    "plt.show()"
   ]
  },
  {
   "cell_type": "markdown",
   "metadata": {},
   "source": [
    "## Histrograms of activations"
   ]
  },
  {
   "cell_type": "code",
   "execution_count": 8,
   "metadata": {},
   "outputs": [
    {
     "data": {
      "image/png": "[encoded data removed]",
      "text/plain": [
       "<Figure size 1600x1200 with 4 Axes>"
      ]
     },
     "metadata": {},
     "output_type": "display_data"
    }
   ],
   "source": [
    "idx1 = 9\n",
    "idx2 = 1\n",
    "\n",
    "plt.figure(figsize=(16,12))\n",
    "plt.subplot(2,2,1)\n",
    "plt.bar(np.arange(m3), activations_count3_jnn[str(idx1)])\n",
    "plt.title('Joint NN histogram of layer 3 activations - number:' + str(idx1))\n",
    "plt.xlabel('Node index')\n",
    "plt.ylabel('# activations')\n",
    "plt.subplot(2,2,2)\n",
    "plt.bar(np.arange(m3), activations_count3_nn[str(idx1)])\n",
    "plt.title('NN histogram of layer 3 activations - number:' + str(idx1))\n",
    "plt.xlabel('Node index')\n",
    "plt.ylabel('# activations')\n",
    "plt.subplot(2,2,3)\n",
    "plt.bar(np.arange(m3), activations_count3_jnn[str(idx2)])\n",
    "plt.title('Joint NN histogram of layer 3 activations - number:' + str(idx2))\n",
    "plt.xlabel('Node index')\n",
    "plt.ylabel('# activations')\n",
    "plt.subplot(2,2,4)\n",
    "plt.bar(np.arange(m3), activations_count3_nn[str(idx2)])\n",
    "plt.title('NN histogram of layer 3 activations - number:' + str(idx2))\n",
    "plt.xlabel('Node index')\n",
    "plt.ylabel('# activations')\n",
    "plt.show()"
   ]
  },
  {
   "cell_type": "markdown",
   "metadata": {},
   "source": [
    "## Alternative visualisations of activations"
   ]
  },
  {
   "cell_type": "code",
   "execution_count": null,
   "metadata": {},
   "outputs": [],
   "source": []
  }
 ],
 "metadata": {
  "kernelspec": {
   "display_name": "Python [default]",
   "language": "python",
   "name": "python3"
  },
  "language_info": {
   "codemirror_mode": {
    "name": "ipython",
    "version": 3
   },
   "file_extension": ".py",
   "mimetype": "text/x-python",
   "name": "python",
   "nbconvert_exporter": "python",
   "pygments_lexer": "ipython3",
   "version": "3.6.6"
  }
 },
 "nbformat": 4,
 "nbformat_minor": 2
}
