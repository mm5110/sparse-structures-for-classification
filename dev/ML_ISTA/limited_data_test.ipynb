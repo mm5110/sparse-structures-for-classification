{
 "cells": [
  {
   "cell_type": "markdown",
   "metadata": {},
   "source": [
    "## Limited data test"
   ]
  },
  {
   "cell_type": "markdown",
   "metadata": {},
   "source": [
    "Purpose of this notebook is to provide a rig to test and compare the performance of the bench mark NN, ML-ISTA and ML-JISTA network in terms of their ability to efficiently learn weight parameters to minimise empirical test error. Testing involves training the a number of these networks with varying numbers of training data points made available. Idea is perhaps that JISTA can act as a 'camel' in terms of leading fewer training data points to do a good job."
   ]
  },
  {
   "cell_type": "code",
   "execution_count": 58,
   "metadata": {},
   "outputs": [],
   "source": [
    "import torch\n",
    "import torch.nn as nn\n",
    "from torch.autograd import Variable\n",
    "import torch.utils.data as Data\n",
    "import torch.nn.functional as F\n",
    "import torchvision\n",
    "import matplotlib.pyplot as plt\n",
    "from matplotlib import cm\n",
    "import numpy as np\n",
    "import time\n",
    "import progressbar\n",
    "import importlib\n",
    "# torch.manual_seed(1)    # reproducible\n",
    "plt.style.use('default')\n",
    "%matplotlib inline\n",
    "\n",
    "import pdb\n",
    "\n",
    "import Models_MNIST as mds\n",
    "\n",
    "# Hyper Parameters\n",
    "EPOCH = 3\n",
    "BATCH_SIZE = 256\n",
    "DOWNLOAD_MNIST = False\n",
    "m1 = 64\n",
    "m2 = 128\n",
    "m3 = 512\n",
    "cudaopt = True\n",
    "\n",
    "EPS = 1e-4\n",
    "\n",
    "numb_train = [512, 1024, 4096, 10000, 20000, 60000]\n",
    "train_data_sets = []\n",
    "\n",
    "# Create different size training sets for the the training data\n",
    "for i in range(len(numb_train)):\n",
    "    # Mnist digits dataset\n",
    "    train_data_all = torchvision.datasets.MNIST(\n",
    "        root='../data',\n",
    "        train=True,                                     # this is training data\n",
    "        transform=torchvision.transforms.ToTensor(),    # Converts a PIL.Image or numpy.ndarray to                                                       # torch.FloatTensor of shape (C x H x W) and normalize in the range [0.0, 1.0]\n",
    "        download=True,                        # download it if you don't have it\n",
    "    )\n",
    "    \n",
    "    train_data = train_data_all\n",
    "    train_set = np.random.choice(60000, int(numb_train[i]))\n",
    "    train_data.train_data = train_data_all.train_data[torch.LongTensor(train_set),:,:] \n",
    "    train_data.train_labels = train_data.train_labels[torch.LongTensor(train_set)]\n",
    "    train_data_sets.append(train_data)\n",
    "\n",
    "# Download and load in the test data\n",
    "test_data = torchvision.datasets.MNIST(\n",
    "    root='../data',\n",
    "    train=False,                                     # this is testing data\n",
    "    transform=torchvision.transforms.ToTensor(),    # Converts a PIL.Image or numpy.ndarray to\n",
    "                                                    # torch.FloatTensor of shape (C x H x W) and normalize in the range [0.0, 1.0]\n",
    "    download=True,                        # download it if you don't have it\n",
    ")\n",
    "\n",
    "# Data Loader for easy mini-batch return in training, the image batch shape will be (50, 1, 28, 28)\n",
    "test_loader = Data.DataLoader(dataset=test_data, batch_size=BATCH_SIZE, shuffle=True)"
   ]
  },
  {
   "cell_type": "code",
   "execution_count": 59,
   "metadata": {},
   "outputs": [
    {
     "data": {
      "text/plain": [
       "[<matplotlib.lines.Line2D at 0x7f219b231b70>]"
      ]
     },
     "execution_count": 59,
     "metadata": {},
     "output_type": "execute_result"
    },
    {
     "data": {
      "image/png": "[encoded data removed]",
      "text/plain": [
       "<Figure size 432x288 with 1 Axes>"
      ]
     },
     "metadata": {},
     "output_type": "display_data"
    }
   ],
   "source": [
    "x = np.linspace(1,EPOCH,EPOCH)\n",
    "Rhos = 1/(1+np.exp(-(x- EPOCH*6/9 )*.2))\n",
    "plt.plot(Rhos)"
   ]
  },
  {
   "cell_type": "markdown",
   "metadata": {},
   "source": [
    "### Test Models"
   ]
  },
  {
   "cell_type": "code",
   "execution_count": 60,
   "metadata": {},
   "outputs": [
    {
     "name": "stderr",
     "output_type": "stream",
     "text": [
      "\r",
      "                                                                               \r",
      "\r",
      "/ |#                                                  | 0 Elapsed Time: 0:00:00"
     ]
    },
    {
     "name": "stdout",
     "output_type": "stream",
     "text": [
      "\n",
      "\t\t\t\t\tTraining Baseline \n",
      "\n",
      "Training and testing models with training data size of 512\n"
     ]
    },
    {
     "name": "stderr",
     "output_type": "stream",
     "text": [
      "/anaconda/envs/mlvm/lib/python3.6/site-packages/ipykernel/__main__.py:94: UserWarning: invalid index of a 0-dim tensor. This will be an error in PyTorch 0.5. Use tensor.item() to convert a 0-dim tensor to a Python number\n",
      "/anaconda/envs/mlvm/lib/python3.6/site-packages/ipykernel/__main__.py:99: UserWarning: invalid index of a 0-dim tensor. This will be an error in PyTorch 0.5. Use tensor.item() to convert a 0-dim tensor to a Python number\n",
      "/anaconda/envs/mlvm/lib/python3.6/site-packages/ipykernel/__main__.py:104: UserWarning: invalid index of a 0-dim tensor. This will be an error in PyTorch 0.5. Use tensor.item() to convert a 0-dim tensor to a Python number\n",
      "/ |#                                                  | 0 Elapsed Time: 0:00:00"
     ]
    },
    {
     "name": "stdout",
     "output_type": "stream",
     "text": [
      "Training and testing models with training data size of 1024\n"
     ]
    },
    {
     "name": "stderr",
     "output_type": "stream",
     "text": [
      "/ |#                                                  | 0 Elapsed Time: 0:00:00"
     ]
    },
    {
     "name": "stdout",
     "output_type": "stream",
     "text": [
      "Training and testing models with training data size of 4096\n"
     ]
    },
    {
     "name": "stderr",
     "output_type": "stream",
     "text": [
      "/ |#                                                  | 0 Elapsed Time: 0:00:00"
     ]
    },
    {
     "name": "stdout",
     "output_type": "stream",
     "text": [
      "Training and testing models with training data size of 10000\n"
     ]
    },
    {
     "name": "stderr",
     "output_type": "stream",
     "text": [
      "\\ |                                               # | 100 Elapsed Time: 0:00:14"
     ]
    },
    {
     "ename": "UnboundLocalError",
     "evalue": "local variable 'scores' referenced before assignment",
     "output_type": "error",
     "traceback": [
      "\u001b[0;31m---------------------------------------------------------------------------\u001b[0m",
      "\u001b[0;31mUnboundLocalError\u001b[0m                         Traceback (most recent call last)",
      "\u001b[0;32m<ipython-input-60-174d34fad311>\u001b[0m in \u001b[0;36m<module>\u001b[0;34m()\u001b[0m\n\u001b[1;32m     53\u001b[0m             \u001b[0mencoded_baseline\u001b[0m\u001b[0;34m,\u001b[0m \u001b[0mscores_baseline\u001b[0m \u001b[0;34m=\u001b[0m \u001b[0mmodel_baseline\u001b[0m\u001b[0;34m(\u001b[0m\u001b[0mb_x\u001b[0m\u001b[0;34m)\u001b[0m\u001b[0;34m\u001b[0m\u001b[0m\n\u001b[1;32m     54\u001b[0m             \u001b[0mencoded_ISTA\u001b[0m\u001b[0;34m,\u001b[0m \u001b[0mscores_ISTA\u001b[0m \u001b[0;34m=\u001b[0m \u001b[0mmodel_ISTA\u001b[0m\u001b[0;34m(\u001b[0m\u001b[0mb_x\u001b[0m\u001b[0;34m,\u001b[0m \u001b[0mT\u001b[0m\u001b[0;34m,\u001b[0m \u001b[0mRHO\u001b[0m\u001b[0;34m)\u001b[0m\u001b[0;34m\u001b[0m\u001b[0m\n\u001b[0;32m---> 55\u001b[0;31m             \u001b[0mencoded_JISTA\u001b[0m\u001b[0;34m,\u001b[0m \u001b[0mscores_JISTA\u001b[0m\u001b[0;34m,\u001b[0m \u001b[0msorted_labels_JISTA\u001b[0m \u001b[0;34m=\u001b[0m \u001b[0mmodel_JISTA\u001b[0m\u001b[0;34m.\u001b[0m\u001b[0mjoint_train\u001b[0m\u001b[0;34m(\u001b[0m\u001b[0mb_x\u001b[0m\u001b[0;34m,\u001b[0m \u001b[0mb_y\u001b[0m\u001b[0;34m,\u001b[0m \u001b[0mT\u001b[0m\u001b[0;34m,\u001b[0m \u001b[0mRHO\u001b[0m\u001b[0;34m)\u001b[0m\u001b[0;34m\u001b[0m\u001b[0m\n\u001b[0m\u001b[1;32m     56\u001b[0m             \u001b[0;31m# Calculate the training loss for each model and backprop\u001b[0m\u001b[0;34m\u001b[0m\u001b[0;34m\u001b[0m\u001b[0m\n\u001b[1;32m     57\u001b[0m             \u001b[0;31m# BASELINE\u001b[0m\u001b[0;34m\u001b[0m\u001b[0;34m\u001b[0m\u001b[0m\n",
      "\u001b[0;32m~/sparse-structures-for-classification/dev/ML_ISTA/Models_MNIST.py\u001b[0m in \u001b[0;36mjoint_train\u001b[0;34m(self, x, labels, T, RHO)\u001b[0m\n\u001b[1;32m    151\u001b[0m                     \u001b[0mscores\u001b[0m \u001b[0;34m=\u001b[0m \u001b[0mscores_by_class\u001b[0m\u001b[0;34m[\u001b[0m\u001b[0mkey\u001b[0m\u001b[0;34m]\u001b[0m\u001b[0;34m\u001b[0m\u001b[0m\n\u001b[1;32m    152\u001b[0m                 \u001b[0;32melse\u001b[0m\u001b[0;34m:\u001b[0m\u001b[0;34m\u001b[0m\u001b[0m\n\u001b[0;32m--> 153\u001b[0;31m                     \u001b[0mscores\u001b[0m \u001b[0;34m=\u001b[0m \u001b[0mtorch\u001b[0m\u001b[0;34m.\u001b[0m\u001b[0mcat\u001b[0m\u001b[0;34m(\u001b[0m\u001b[0;34m(\u001b[0m\u001b[0mscores\u001b[0m\u001b[0;34m,\u001b[0m \u001b[0mscores_by_class\u001b[0m\u001b[0;34m[\u001b[0m\u001b[0mkey\u001b[0m\u001b[0;34m]\u001b[0m\u001b[0;34m)\u001b[0m\u001b[0;34m,\u001b[0m \u001b[0;36m0\u001b[0m\u001b[0;34m)\u001b[0m\u001b[0;34m\u001b[0m\u001b[0m\n\u001b[0m\u001b[1;32m    154\u001b[0m         \u001b[0;32mreturn\u001b[0m \u001b[0mencoded_by_class\u001b[0m\u001b[0;34m,\u001b[0m \u001b[0mscores\u001b[0m\u001b[0;34m,\u001b[0m \u001b[0mtorch\u001b[0m\u001b[0;34m.\u001b[0m\u001b[0mfrom_numpy\u001b[0m\u001b[0;34m(\u001b[0m\u001b[0msorted_labels\u001b[0m\u001b[0;34m)\u001b[0m\u001b[0;34m.\u001b[0m\u001b[0mtype\u001b[0m\u001b[0;34m(\u001b[0m\u001b[0mtorch\u001b[0m\u001b[0;34m.\u001b[0m\u001b[0mLongTensor\u001b[0m\u001b[0;34m)\u001b[0m\u001b[0;34m\u001b[0m\u001b[0m\n\u001b[1;32m    155\u001b[0m \u001b[0;34m\u001b[0m\u001b[0m\n",
      "\u001b[0;31mUnboundLocalError\u001b[0m: local variable 'scores' referenced before assignment"
     ]
    }
   ],
   "source": [
    "T = 0\n",
    "\n",
    "Loss_test_baseline = np.zeros((EPOCH, len(numb_train)))\n",
    "Acc_test_baseline = np.zeros((EPOCH, len(numb_train)))\n",
    "\n",
    "Loss_test_ISTA = np.zeros((EPOCH, len(numb_train)))\n",
    "Acc_test_ISTA = np.zeros((EPOCH, len(numb_train)))\n",
    "\n",
    "Loss_test_JISTA = np.zeros((EPOCH, len(numb_train)))\n",
    "Acc_test_JISTA = np.zeros((EPOCH, len(numb_train)))\n",
    "\n",
    "print('\\n\\t\\t\\t\\t\\tTraining Baseline \\n')\n",
    "\n",
    "# Iterate through each of the training data set sizes\n",
    "for i in range(len(numb_train)):\n",
    "    print(\"Training and testing models with training data size of \" + str(int(numb_train[i])))\n",
    "    # Load data for the correct size\n",
    "    train_loader = Data.DataLoader(dataset=train_data_sets[i], batch_size=BATCH_SIZE, shuffle=True)\n",
    "    \n",
    "    # Define the three models we want to compare     \n",
    "    model_baseline = mds.ML_ISTA_NET(m1,m2,m3)\n",
    "    model_ISTA = mds.ML_ISTA_NET(m1,m2,m3)\n",
    "    model_JISTA = mds.ML_JISTA_NET(m1,m2,m3)\n",
    "    \n",
    "    # Optimise if CUDA is available   \n",
    "    if cudaopt:\n",
    "        model_baseline.cuda()\n",
    "        model_ISTA.cuda()\n",
    "        model_JISTA.cuda()\n",
    "    \n",
    "    # Define optimizer for each model to update a specific model's parameters    \n",
    "    optimizer_baseline = torch.optim.Adam(model_baseline.parameters(), lr = 0.0001, eps = EPS)\n",
    "    optimizer_ISTA = torch.optim.Adam(model_ISTA.parameters(), lr = 0.0001, eps = EPS)\n",
    "    optimizer_JISTA = torch.optim.Adam(model_JISTA.parameters(), lr = 0.0001, eps = EPS)\n",
    "    \n",
    "    bar = progressbar.ProgressBar()\n",
    "\n",
    "    for epoch in range(EPOCH):\n",
    "\n",
    "        bar.update((epoch+1)/EPOCH*100)\n",
    "        RHO =  float(Rhos[epoch])\n",
    "        # train each model for 1 epoch\n",
    "        model_baseline.train()\n",
    "        model_ISTA.train()\n",
    "        model_JISTA.train()\n",
    "        \n",
    "        for step, (x, y) in enumerate(train_loader):\n",
    "            b_x = Variable(x)   # batch x, shape (batch, 28*28)\n",
    "            b_y = Variable(y)               # batch label\n",
    "            if cudaopt:\n",
    "                b_y, b_x = b_y.cuda(), b_x.cuda()\n",
    "            # Run data through each model                \n",
    "            encoded_baseline, scores_baseline = model_baseline(b_x)\n",
    "            encoded_ISTA, scores_ISTA = model_ISTA(b_x, T, RHO)\n",
    "            encoded_JISTA, scores_JISTA, sorted_labels_JISTA = model_JISTA.joint_train(b_x, b_y, T, RHO)\n",
    "            # Calculate the training loss for each model and backprop\n",
    "            # BASELINE            \n",
    "            loss_baseline = F.nll_loss(scores_baseline, b_y)      # negative log likelyhood\n",
    "            optimizer_baseline.zero_grad()               # clear gradients for this training step\n",
    "            loss_baseline.backward()                     # backpropagation, compute gradients\n",
    "            optimizer_baseline.step()                    # apply gradients\n",
    "            # ISTA            \n",
    "            loss_ISTA = F.nll_loss(scores_ISTA, b_y)      # negative log likelyhood\n",
    "            optimizer_ISTA.zero_grad()               # clear gradients for this training step\n",
    "            loss_ISTA.backward()                     # backpropagation, compute gradients\n",
    "            optimizer_ISTA.step()                    # apply gradients\n",
    "            # JISTA\n",
    "            sorted_labels_JISTA = sorted_labels_JISTA.type(torch.cuda.LongTensor)\n",
    "            scores_JISTA.type(torch.cuda.LongTensor)           \n",
    "            loss_JISTA = F.nll_loss(scores_JISTA, sorted_labels_JISTA)      # negative log likelyhood\n",
    "            optimizer_JISTA.zero_grad()               # clear gradients for this training step\n",
    "            loss_JISTA.backward()                     # backpropagation, compute gradients\n",
    "            optimizer_JISTA.step()                    # apply gradients\n",
    "        \n",
    "        # TEST EACH MODEL AND STORE PERFORMANCE\n",
    "        model_baseline.eval()\n",
    "        model_ISTA.eval()\n",
    "        model_JISTA.eval()     \n",
    "        correct_baseline = 0\n",
    "        correct_ISTA = 0\n",
    "        correct_JISTA = 0       \n",
    "        test_loss_baseline = 0\n",
    "        test_loss_ISTA = 0\n",
    "        test_loss_JISTA = 0\n",
    "        \n",
    "        for step, (x, y) in enumerate(test_loader):\n",
    "            b_x = Variable(x)   # batch x, shape (batch, 28*28)\n",
    "            b_y = Variable(y)               # batch label\n",
    "            if cudaopt:\n",
    "                b_y, b_x = b_y.cuda(), b_x.cuda()\n",
    "                \n",
    "            # Calculate the test loss for each model\n",
    "            gamma, scores = model_baseline(b_x)\n",
    "            test_loss_baseline += F.nll_loss(scores, b_y, size_average=False).data[0]\n",
    "            pred = scores.data.max(1, keepdim=True)[1]\n",
    "            correct_baseline += pred.eq(b_y.data.view_as(pred)).long().cpu().sum()\n",
    "            \n",
    "            gamma, scores = model_ISTA(b_x,T,RHO)\n",
    "            test_loss_ISTA += F.nll_loss(scores, b_y, size_average=False).data[0]\n",
    "            pred = scores.data.max(1, keepdim=True)[1]\n",
    "            correct_ISTA += pred.eq(b_y.data.view_as(pred)).long().cpu().sum()\n",
    "            \n",
    "            gamma, scores = model_JISTA(b_x,T,RHO)\n",
    "            test_loss_JISTA += F.nll_loss(scores, b_y, size_average=False).data[0]\n",
    "            pred = scores.data.max(1, keepdim=True)[1]\n",
    "            correct_JISTA += pred.eq(b_y.data.view_as(pred)).long().cpu().sum()\n",
    "        \n",
    "        # Calculate each error as a percentage\n",
    "        test_loss_baseline /= len(test_loader.dataset)\n",
    "        test_loss_ISTA /= len(test_loader.dataset)\n",
    "        test_loss_JISTA /= len(test_loader.dataset)\n",
    "        \n",
    "        Loss_test_baseline[epoch,i] = test_loss_baseline\n",
    "        Acc_test_baseline[epoch,i] =  100 * float(correct_baseline) /float(len(test_loader.dataset))\n",
    "        \n",
    "        Loss_test_ISTA[epoch,i] = test_loss_ISTA\n",
    "        Acc_test_ISTA[epoch,i] =  100 * float(correct_ISTA) /float(len(test_loader.dataset))\n",
    "        \n",
    "        Loss_test_JISTA[epoch,i] = test_loss_JISTA\n",
    "        Acc_test_JISTA[epoch,i] =  100 * float(correct_JISTA) /float(len(test_loader.dataset))\n",
    "\n",
    "#     torch.save(model.state_dict(), 'cnn_model.pt')"
   ]
  },
  {
   "cell_type": "markdown",
   "metadata": {},
   "source": [
    "### Plot results"
   ]
  },
  {
   "cell_type": "code",
   "execution_count": 53,
   "metadata": {},
   "outputs": [
    {
     "name": "stderr",
     "output_type": "stream",
     "text": [
      "/anaconda/envs/mlvm/lib/python3.6/site-packages/matplotlib/cbook/deprecation.py:107: MatplotlibDeprecationWarning: Passing one of 'on', 'true', 'off', 'false' as a boolean is deprecated; use an actual boolean (True/False) instead.\n",
      "  warnings.warn(message, mplDeprecation, stacklevel=1)\n"
     ]
    },
    {
     "data": {
      "image/png": "[encoded data removed]",
      "text/plain": [
       "<Figure size 800x600 with 1 Axes>"
      ]
     },
     "metadata": {},
     "output_type": "display_data"
    }
   ],
   "source": [
    "fig = plt.figure(figsize=(8,6))\n",
    "plt.style.use('default')\n",
    "plt.plot(numb_train, Acc_test_baseline[EPOCH-1, :],  linewidth = 2,label='baseline')\n",
    "plt.plot(numb_train, Acc_test_ISTA[EPOCH-1, :], linewidth = 2,label = 'ML-ISTA')\n",
    "plt.plot(numb_train, Acc_test_JISTA[EPOCH-1, :], linewidth = 2,label = 'ML-JISTA')\n",
    "# plt.plot(Acc_test_fista_r, linewidth = 2,label = 'ML-FISTA')\n",
    "\n",
    "plt.grid('on')\n",
    "plt.title('Test Accuracy - 4 Unfoldings')\n",
    "plt.legend()\n",
    "# plt.axis([0, 100, 95, 100])\n",
    "plt.show()"
   ]
  }
 ],
 "metadata": {
  "kernelspec": {
   "display_name": "Python [conda env:mlvm]",
   "language": "python",
   "name": "conda-env-mlvm-py"
  },
  "language_info": {
   "codemirror_mode": {
    "name": "ipython",
    "version": 3
   },
   "file_extension": ".py",
   "mimetype": "text/x-python",
   "name": "python",
   "nbconvert_exporter": "python",
   "pygments_lexer": "ipython3",
   "version": "3.6.6"
  }
 },
 "nbformat": 4,
 "nbformat_minor": 2
}
