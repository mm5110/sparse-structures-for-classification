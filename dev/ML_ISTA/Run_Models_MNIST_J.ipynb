{
 "cells": [
  {
   "cell_type": "code",
   "execution_count": 204,
   "metadata": {},
   "outputs": [],
   "source": [
    "import torch\n",
    "import torch.nn as nn\n",
    "from torch.autograd import Variable\n",
    "import torch.utils.data as Data\n",
    "import torch.nn.functional as F\n",
    "import torchvision\n",
    "import matplotlib.pyplot as plt\n",
    "from matplotlib import cm\n",
    "import numpy as np\n",
    "import time\n",
    "import progressbar\n",
    "import importlib\n",
    "import random\n",
    "# torch.manual_seed(1)    # reproducible\n",
    "plt.style.use('default')\n",
    "%matplotlib inline\n",
    "\n",
    "import pdb\n",
    "\n",
    "import Models_MNIST as mds\n",
    "\n",
    "# Hyper Parameters\n",
    "EPOCH = 300\n",
    "BATCH_SIZE = 256\n",
    "DOWNLOAD_MNIST = False\n",
    "m1 = 64\n",
    "m2 = 128\n",
    "m3 = 512\n",
    "cudaopt = True\n",
    "\n",
    "EPS = 1e-4\n",
    "\n",
    "# Mnist digits dataset\n",
    "train_data = torchvision.datasets.MNIST(\n",
    "    root='../data',\n",
    "    train=True,                                     # this is training data\n",
    "    transform=torchvision.transforms.ToTensor(),    # Converts a PIL.Image or numpy.ndarray to\n",
    "                                                    # torch.FloatTensor of shape (C x H x W) and normalize in the range [0.0, 1.0]\n",
    "    download=True,                        # download it if you don't have it\n",
    ")\n",
    "\n",
    "# LIMITING TRAINING DATA\n",
    "Ntrain = int(2e3)\n",
    "train_set = np.random.permutation(60000)[0:Ntrain]\n",
    "train_data.train_data = train_data.train_data[torch.LongTensor(train_set),:,:]\n",
    "train_data.train_labels = train_data.train_labels[torch.LongTensor(train_set)]\n",
    "\n",
    "test_data = torchvision.datasets.MNIST(\n",
    "    root='../data',\n",
    "    train=False,                                     # this is testing data\n",
    "    transform=torchvision.transforms.ToTensor(),    # Converts a PIL.Image or numpy.ndarray to\n",
    "                                                    # torch.FloatTensor of shape (C x H x W) and normalize in the range [0.0, 1.0]\n",
    "    download=True,                        # download it if you don't have it\n",
    ")\n",
    "\n",
    "# Data Loader for easy mini-batch return in training, the image batch shape will be (50, 1, 28, 28)\n",
    "train_loader = Data.DataLoader(dataset=train_data, batch_size=BATCH_SIZE, shuffle=True)\n",
    "test_loader = Data.DataLoader(dataset=test_data, batch_size=BATCH_SIZE, shuffle=True)"
   ]
  },
  {
   "cell_type": "markdown",
   "metadata": {},
   "source": [
    "### Model Baseline"
   ]
  },
  {
   "cell_type": "code",
   "execution_count": null,
   "metadata": {},
   "outputs": [
    {
     "name": "stderr",
     "output_type": "stream",
     "text": [
      "100% (100 of 100) |#######################| Elapsed Time: 0:05:34 Time: 0:05:34\n",
      "N/A% (0 of 100) |                        | Elapsed Time: 0:00:00 ETA:  --:--:--"
     ]
    },
    {
     "name": "stdout",
     "output_type": "stream",
     "text": [
      "\n",
      "\t\t\t\t\tTraining Baseline\n",
      "\n"
     ]
    },
    {
     "name": "stderr",
     "output_type": "stream",
     "text": [
      "C:\\Users\\Jere\\Anaconda3\\lib\\site-packages\\ipykernel_launcher.py:50: UserWarning: invalid index of a 0-dim tensor. This will be an error in PyTorch 0.5. Use tensor.item() to convert a 0-dim tensor to a Python number\n",
      " 11% (11.333333333333332 of 100) |        | Elapsed Time: 0:01:08 ETA:  0:09:25"
     ]
    }
   ],
   "source": [
    "Loss_test_0 = np.zeros((EPOCH,))\n",
    "Acc_test_0 = np.zeros((EPOCH,))\n",
    "Acc_train_0 = np.zeros((EPOCH,))\n",
    "\n",
    "print('\\n\\t\\t\\t\\t\\tTraining Baseline\\n')\n",
    "\n",
    "T = 2\n",
    "RHO = 0\n",
    "\n",
    "model_0 = mds.ML_ISTA_NET(m1,m2,m3)\n",
    "if cudaopt:\n",
    "    model_0.cuda()\n",
    "\n",
    "optimizer = torch.optim.Adam(model_0.parameters(), lr = 0.0001, eps = EPS)\n",
    "bar = progressbar.ProgressBar()\n",
    "\n",
    "for epoch in range(EPOCH):\n",
    "\n",
    "    bar.update((epoch+1)/EPOCH*100)\n",
    "    # train 1 epoch\n",
    "    model_0.train()\n",
    "    train_correct = 0\n",
    "    for step, (x, y) in enumerate(train_loader):\n",
    "        b_x = Variable(x)   # batch x, shape (batch, 28*28)\n",
    "        b_y = Variable(y)               # batch label\n",
    "        if cudaopt:\n",
    "            b_y, b_x = b_y.cuda(), b_x.cuda()\n",
    "        encoded, scores = model_0(b_x,T,RHO)\n",
    "        \n",
    "        train_pred = scores.data.max(1, keepdim=True)[1]\n",
    "        train_correct += train_pred.eq(b_y.data.view_as(train_pred)).long().cpu().sum()\n",
    "        \n",
    "        loss = F.nll_loss(scores, b_y)      # negative log likelyhood\n",
    "        optimizer.zero_grad()               # clear gradients for this training step\n",
    "        loss.backward()                     # backpropagation, compute gradients\n",
    "        optimizer.step()                    # apply gradients\n",
    "    \n",
    "    Acc_train_0[epoch] =  100 * float(train_correct) /float(len(train_loader.dataset))\n",
    "    \n",
    "    # testing\n",
    "    model_0.eval()\n",
    "    correct = 0\n",
    "    test_loss = 0\n",
    "    for step, (x, y) in enumerate(test_loader):\n",
    "        b_x = Variable(x)   # batch x, shape (batch, 28*28)\n",
    "        b_y = Variable(y)               # batch label\n",
    "        if cudaopt:\n",
    "            b_y, b_x = b_y.cuda(), b_x.cuda()\n",
    "        gamma, scores = model_0(b_x,T,RHO)\n",
    "        test_loss += F.nll_loss(scores, b_y, size_average=False).data[0]\n",
    "        pred = scores.data.max(1, keepdim=True)[1]\n",
    "        correct += pred.eq(b_y.data.view_as(pred)).long().cpu().sum()\n",
    "        \n",
    "    test_loss /= len(test_loader.dataset)\n",
    "    Loss_test_0[epoch] = test_loss\n",
    "    Acc_test_0[epoch] =  100 * float(correct) /float(len(test_loader.dataset))\n",
    "    \n",
    "# torch.save(model_0.state_dict(), 'cnn_model.pt')"
   ]
  },
  {
   "cell_type": "markdown",
   "metadata": {},
   "source": [
    "### J-ISTA"
   ]
  },
  {
   "cell_type": "code",
   "execution_count": null,
   "metadata": {},
   "outputs": [],
   "source": [
    "# test\n",
    "W1 = nn.Parameter(torch.randn(m1,1,6,6), requires_grad=True)\n",
    "strd1 = 2;\n",
    "W2 = nn.Parameter(torch.randn(m2,m1,6,6), requires_grad=True)\n",
    "strd2 = 2;\n",
    "W3 = nn.Parameter(torch.randn(m3,m2,4,4), requires_grad=True)\n",
    "strd3 = 1;\n",
    "        # Biases / Thresholds\n",
    "b1 = nn.Parameter(torch.zeros(1,m1,1,1), requires_grad=True)\n",
    "b2 = nn.Parameter(torch.zeros(1,m2,1,1), requires_grad=True)\n",
    "b3 = nn.Parameter(torch.zeros(1,m3,1,1), requires_grad=True)\n",
    "       \n",
    "        # Classifier\n",
    "Wclass = nn.Linear(m3, 10)\n",
    "       \n",
    "        # Initialization\n",
    "W1.data = 0.01 * W1.data\n",
    "W2.data = 0.01 * W2.data\n",
    "W3.data = 0.01 * W3.data"
   ]
  },
  {
   "cell_type": "code",
   "execution_count": null,
   "metadata": {},
   "outputs": [],
   "source": [
    "b_x = Variable(x)   # batch x, shape (batch, 28*28)\n",
    "b_y = Variable(y)               # batch label\n",
    "if cudaopt:\n",
    "    b_y, b_x = b_y.cuda(), b_x.cuda()\n",
    "\n",
    "\n",
    "gamma1 = F.relu(F.conv2d(x,W1, stride = strd1) + b1)       # first estimation\n",
    "gamma2 = F.relu(F.conv2d(gamma1,W2, stride = strd2) + b2) \n",
    "# gamma_3 = F.relu(F.conv2d(gamma2,W3, stride = strd3) + b3) \n",
    "X = F.conv2d(gamma2,W3, stride = strd3)\n",
    "gamma3 = torch.zeros(X.shape)\n",
    "for i in range(10):\n",
    "    if torch.sum(b_y==i)>0:\n",
    "        X_i = X[b_y==i,:,:,:]\n",
    "        x_i = torch.sqrt(torch.sum(X_i**2,dim=0)) # computing norm of rows\n",
    "        a_i = F.relu(x_i + b3) \n",
    "        X_i = X_i/x_i\n",
    "        X_i = X_i * a_i\n",
    "        gamma3[b_y==i,:,:,:] = X_i\n"
   ]
  },
  {
   "cell_type": "code",
   "execution_count": 224,
   "metadata": {},
   "outputs": [
    {
     "name": "stderr",
     "output_type": "stream",
     "text": [
      "100% (100 of 100) |#######################| Elapsed Time: 0:02:05 Time: 0:02:05\n",
      "N/A% (0 of 100) |                        | Elapsed Time: 0:00:00 ETA:  --:--:--"
     ]
    },
    {
     "name": "stdout",
     "output_type": "stream",
     "text": [
      "\n",
      "\t\t\t\t\tTraining ML-JISTA \n",
      "\n"
     ]
    },
    {
     "name": "stderr",
     "output_type": "stream",
     "text": [
      "C:\\Users\\Jere\\Anaconda3\\lib\\site-packages\\ipykernel_launcher.py:53: UserWarning: invalid index of a 0-dim tensor. This will be an error in PyTorch 0.5. Use tensor.item() to convert a 0-dim tensor to a Python number\n",
      " 12% (12.0 of 100) |##                    | Elapsed Time: 0:02:23 ETA:  0:17:56"
     ]
    },
    {
     "ename": "KeyboardInterrupt",
     "evalue": "",
     "output_type": "error",
     "traceback": [
      "\u001b[1;31m---------------------------------------------------------------------------\u001b[0m",
      "\u001b[1;31mKeyboardInterrupt\u001b[0m                         Traceback (most recent call last)",
      "\u001b[1;32m<ipython-input-224-fdbaf53c989f>\u001b[0m in \u001b[0;36m<module>\u001b[1;34m()\u001b[0m\n\u001b[0;32m     53\u001b[0m         \u001b[0mtest_loss\u001b[0m \u001b[1;33m+=\u001b[0m \u001b[0mF\u001b[0m\u001b[1;33m.\u001b[0m\u001b[0mnll_loss\u001b[0m\u001b[1;33m(\u001b[0m\u001b[0mscores\u001b[0m\u001b[1;33m,\u001b[0m \u001b[0mb_y\u001b[0m\u001b[1;33m,\u001b[0m \u001b[0msize_average\u001b[0m\u001b[1;33m=\u001b[0m\u001b[1;32mFalse\u001b[0m\u001b[1;33m)\u001b[0m\u001b[1;33m.\u001b[0m\u001b[0mdata\u001b[0m\u001b[1;33m[\u001b[0m\u001b[1;36m0\u001b[0m\u001b[1;33m]\u001b[0m\u001b[1;33m\u001b[0m\u001b[0m\n\u001b[0;32m     54\u001b[0m         \u001b[0mpred\u001b[0m \u001b[1;33m=\u001b[0m \u001b[0mscores\u001b[0m\u001b[1;33m.\u001b[0m\u001b[0mdata\u001b[0m\u001b[1;33m.\u001b[0m\u001b[0mmax\u001b[0m\u001b[1;33m(\u001b[0m\u001b[1;36m1\u001b[0m\u001b[1;33m,\u001b[0m \u001b[0mkeepdim\u001b[0m\u001b[1;33m=\u001b[0m\u001b[1;32mTrue\u001b[0m\u001b[1;33m)\u001b[0m\u001b[1;33m[\u001b[0m\u001b[1;36m1\u001b[0m\u001b[1;33m]\u001b[0m\u001b[1;33m\u001b[0m\u001b[0m\n\u001b[1;32m---> 55\u001b[1;33m         \u001b[0mcorrect\u001b[0m \u001b[1;33m+=\u001b[0m \u001b[0mpred\u001b[0m\u001b[1;33m.\u001b[0m\u001b[0meq\u001b[0m\u001b[1;33m(\u001b[0m\u001b[0mb_y\u001b[0m\u001b[1;33m.\u001b[0m\u001b[0mdata\u001b[0m\u001b[1;33m.\u001b[0m\u001b[0mview_as\u001b[0m\u001b[1;33m(\u001b[0m\u001b[0mpred\u001b[0m\u001b[1;33m)\u001b[0m\u001b[1;33m)\u001b[0m\u001b[1;33m.\u001b[0m\u001b[0mlong\u001b[0m\u001b[1;33m(\u001b[0m\u001b[1;33m)\u001b[0m\u001b[1;33m.\u001b[0m\u001b[0mcpu\u001b[0m\u001b[1;33m(\u001b[0m\u001b[1;33m)\u001b[0m\u001b[1;33m.\u001b[0m\u001b[0msum\u001b[0m\u001b[1;33m(\u001b[0m\u001b[1;33m)\u001b[0m\u001b[1;33m\u001b[0m\u001b[0m\n\u001b[0m\u001b[0;32m     56\u001b[0m \u001b[1;33m\u001b[0m\u001b[0m\n\u001b[0;32m     57\u001b[0m     \u001b[0mtest_loss\u001b[0m \u001b[1;33m/=\u001b[0m \u001b[0mlen\u001b[0m\u001b[1;33m(\u001b[0m\u001b[0mtest_loader\u001b[0m\u001b[1;33m.\u001b[0m\u001b[0mdataset\u001b[0m\u001b[1;33m)\u001b[0m\u001b[1;33m\u001b[0m\u001b[0m\n",
      "\u001b[1;31mKeyboardInterrupt\u001b[0m: "
     ]
    }
   ],
   "source": [
    "importlib.reload(mds)\n",
    "\n",
    "Loss_test_jista_r = np.zeros((EPOCH,))\n",
    "Acc_test_jista_r = np.zeros((EPOCH,))\n",
    "Acc_train_jista_r = np.zeros((EPOCH,))\n",
    "\n",
    "print('\\n\\t\\t\\t\\t\\tTraining ML-JISTA \\n')\n",
    "\n",
    "model_jnn = mds.ML_JISTA_NET_J(m1,m2,m3)\n",
    "if cudaopt:\n",
    "    model_jnn.cuda()\n",
    "\n",
    "optimizer = torch.optim.Adam(model_jnn.parameters(), lr = 0.0001, eps = EPS)\n",
    "bar = progressbar.ProgressBar()\n",
    "\n",
    "for epoch in range(EPOCH):\n",
    "#     print(\"Epoch: \" + str(int(epoch)))\n",
    "    bar.update((epoch+1)/EPOCH*100)\n",
    "    # train 1 epoch\n",
    "    model_jnn.train()\n",
    "    \n",
    "    train_correct = 0\n",
    "    for step, (x, y) in enumerate(train_loader):\n",
    "        b_x = Variable(x)   # batch x, shape (batch, 28*28)\n",
    "        b_y = Variable(y)               # batch label\n",
    "        if cudaopt:\n",
    "            b_y, b_x = b_y.cuda(), b_x.cuda()\n",
    "        encoded, scores = model_jnn.forward_joint(b_x, b_y, T, RHO)\n",
    "        \n",
    "        train_pred = scores.data.max(1, keepdim=True)[1]\n",
    "        train_correct += train_pred.eq(b_y.data.view_as(train_pred)).long().cpu().sum()\n",
    "        \n",
    "        loss = F.nll_loss(scores, b_y)      # negative log likelyhood\n",
    "        optimizer.zero_grad()               # clear gradients for this training step\n",
    "        loss.backward()                     # backpropagation, compute gradients\n",
    "        optimizer.step()                    # apply gradients\n",
    "    \n",
    "    Acc_train_jista_r[epoch] =  100 * float(train_correct) /float(len(train_loader.dataset))    \n",
    "        \n",
    "    # testing\n",
    "    model_jnn.eval()\n",
    "    correct = 0\n",
    "    test_loss = 0\n",
    "    for step, (x, y) in enumerate(test_loader):\n",
    "        b_x = Variable(x)   # batch x, shape (batch, 28*28)\n",
    "        b_y = Variable(y)               # batch label\n",
    "        if cudaopt:\n",
    "            b_y, b_x = b_y.cuda(), b_x.cuda()\n",
    "        gamma, scores = model_jnn.forward(b_x,T,RHO)\n",
    "        test_loss += F.nll_loss(scores, b_y, size_average=False).data[0]\n",
    "        pred = scores.data.max(1, keepdim=True)[1]\n",
    "        correct += pred.eq(b_y.data.view_as(pred)).long().cpu().sum()\n",
    "        \n",
    "    test_loss /= len(test_loader.dataset)\n",
    "    Loss_test_jista_r[epoch] = test_loss\n",
    "    Acc_test_jista_r[epoch] =  100 * float(correct) /float(len(test_loader.dataset))\n",
    "#     print(\"Performance at epoch \" + str(int(epoch)) + \": \" + str(Acc_test_ista_r[epoch]))\n",
    "    \n",
    "# torch.save(model_jnn.state_dict(), 'mljista_model.pt')"
   ]
  },
  {
   "cell_type": "markdown",
   "metadata": {},
   "source": [
    "## Plot accuracies"
   ]
  },
  {
   "cell_type": "code",
   "execution_count": 235,
   "metadata": {},
   "outputs": [
    {
     "data": {
      "image/png": "[encoded data removed]",
      "text/plain": [
       "<matplotlib.figure.Figure at 0x212a01cbc18>"
      ]
     },
     "metadata": {},
     "output_type": "display_data"
    }
   ],
   "source": [
    "plt.style.use('default')\n",
    "fig = plt.figure(figsize=(6,4))\n",
    "plt.plot(Acc_train_0, ':b', linewidth = 2,label='ML-ISTA train')\n",
    "plt.plot(Acc_test_0,'b',linewidth = 2,label='ML-ISTA test')\n",
    "# plt.plot(Acc_test_ista_r, linewidth = 2,label = 'ML-ISTA')\n",
    "plt.plot(Acc_train_jista_r,':r', linewidth = 2,label = 'ML-JISTA train')\n",
    "plt.plot(Acc_test_jista_r,'r', linewidth = 2,label = 'ML-JISTA test')\n",
    "# plt.plot(Acc_test_fista_r, linewidth = 2,label = 'ML-FISTA')\n",
    "plt.grid('on')\n",
    "plt.title('Train Accuracy - 0 Unfoldings')\n",
    "plt.legend()\n",
    "plt.axis([0, EPOCH-1, 90, 101])\n",
    "plt.show()"
   ]
  },
  {
   "cell_type": "markdown",
   "metadata": {},
   "source": [
    "## Visualise global filters of baseline"
   ]
  },
  {
   "cell_type": "code",
   "execution_count": null,
   "metadata": {},
   "outputs": [],
   "source": [
    "cols = 10\n",
    "rows = 10\n",
    "indices = random.sample(range(m3), cols*rows)\n",
    "\n",
    "dict1 = model_0.W3\n",
    "atom1_dim = dict1.shape[3]\n",
    "print(dict1.shape)\n",
    "\n",
    "dict2 = F.conv_transpose2d(dict1, model_0.W2, stride=model_0.strd1, dilation=1)\n",
    "atom2_dim = dict2.shape[3]\n",
    "print(dict2.shape)\n",
    "\n",
    "dict3 = F.conv_transpose2d(dict2, model_0.W1, stride=model_0.strd2, dilation=1)\n",
    "atom3_dim = dict3.shape[3]\n",
    "print(dict3.shape)\n",
    "\n",
    "idx = 1\n",
    "plt.figure(figsize=(10,10))\n",
    "for j in range(rows):\n",
    "    for i in range(cols):\n",
    "        plt.subplot(cols,rows,idx)\n",
    "        plt.imshow(np.reshape(dict3.cpu().data.numpy()[idx-1], (atom3_dim, atom3_dim)), cmap='gray')\n",
    "        plt.axis('off')\n",
    "        idx+=1\n",
    "\n",
    "plt.show()"
   ]
  },
  {
   "cell_type": "markdown",
   "metadata": {},
   "source": [
    "## Visualise global filters of JISTA"
   ]
  },
  {
   "cell_type": "code",
   "execution_count": null,
   "metadata": {},
   "outputs": [],
   "source": [
    "cols = 10\n",
    "rows = 10\n",
    "indices = random.sample(range(m3), cols*rows)\n",
    "\n",
    "dict1 = model_jnn.W3\n",
    "atom1_dim = dict1.shape[3]\n",
    "print(dict1.shape)\n",
    "\n",
    "dict2 = F.conv_transpose2d(dict1, model_jnn.W2, stride=model_jnn.strd1, dilation=1)\n",
    "atom2_dim = dict2.shape[3]\n",
    "print(dict2.shape)\n",
    "\n",
    "dict3 = F.conv_transpose2d(dict2, model_jnn.W1, stride=model_jnn.strd2, dilation=1)\n",
    "atom3_dim = dict3.shape[3]\n",
    "print(dict3.shape)\n",
    "\n",
    "idx = 1\n",
    "plt.figure(figsize=(10,10))\n",
    "for j in range(rows):\n",
    "    for i in range(cols):\n",
    "        plt.subplot(cols,rows,idx)\n",
    "        plt.imshow(np.reshape(dict3.cpu().data.numpy()[idx-1], (atom3_dim, atom3_dim)), cmap='gray')\n",
    "        plt.axis('off')\n",
    "        idx+=1\n",
    "\n",
    "plt.show()"
   ]
  },
  {
   "cell_type": "code",
   "execution_count": null,
   "metadata": {},
   "outputs": [],
   "source": []
  }
 ],
 "metadata": {
  "kernelspec": {
   "display_name": "Python 3",
   "language": "python",
   "name": "python3"
  },
  "language_info": {
   "codemirror_mode": {
    "name": "ipython",
    "version": 3
   },
   "file_extension": ".py",
   "mimetype": "text/x-python",
   "name": "python",
   "nbconvert_exporter": "python",
   "pygments_lexer": "ipython3",
   "version": "3.6.3"
  }
 },
 "nbformat": 4,
 "nbformat_minor": 2
}
