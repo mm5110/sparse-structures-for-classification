{
 "cells": [
  {
   "cell_type": "markdown",
   "metadata": {},
   "source": [
    "# Hypothesis Test - does joint sparsity bring any benefit?\n",
    "In this notebook we examine weather joint sparsity has any benefit over standard sparse coding techniques for classification. The rough idea is that a joint sparse forward pass will learn a code or representation for the a data point that takes into account other examples of the same class. In effect then we are trying to map all members of a given class onto a particular subspace. To test the benefits we consider two tests:\n",
    "- classification: we perform classification by taking the set of sparse representations of a class and then perform SVD, so as to identify say the top 5 singular vectors that span a linear space that in some sense represents the given class label in the encoder space. We benchmark against standard IHT and PCA.\n",
    "- reconstruction / decoding: we observe the reconstruction rate for JIHT vs IHT and PCA. It is expected that IHT should have a better reconstruction error.\n",
    "\n",
    "\n",
    "## Methodology\n",
    "### For classification:\n",
    "For the IHT/ JIHT:\n",
    "- we train a model on MNIST with an IHT/ JIHT forward pass\n",
    "- we then run the entire MNIST traing set through the modelto find all the training data point encodings\n",
    "- group the encodings by class, and carry out SVD to find the j singular vectors. These j linear vectors define a linear manifold or subspace which we 'associate' with the class\n",
    "- then run the entire test set through the model to find all the test data point encodings\n",
    "- classify each test data point by assigning into the class whose linear manifold or subspace is closest to the data points encoding by projecting\n",
    "\n",
    "PCA benchmarking approach:\n",
    "- Find the j principal components of the training data set for each class\n",
    "- Project the test data onto each of the sets of j principal components of each class\n",
    "- Assign a test data point to the class for which it has the largest projection (shortest distance) \n",
    "\n",
    "Then compare them all by looking at the percentage of data points that they correctly categorised.\n",
    "\n",
    "### For reconstruction:\n",
    "For the IHT/ JIHT:\n",
    "- Simple: forward pass and then reverse pass, calculate l2 distance between decoded and original data point. Calculate the percentage error over the entire test set and training set. Also plot to inpect visually\n",
    "\n",
    "PCA benchmarking approach:\n",
    "- Calculate the m principal components of the training data set (these act as our atoms)\n",
    "- For each data point encode it as the sum of the K principal components that the data point is closest (calculate the inner product between the data point and each principal component, select largest K\n",
    "- reconstruct data point or image from just these K principal components\n",
    "\n",
    "Compare the total reconstruction error betweenIHT, JIHT and PCA for both the test and training data sets."
   ]
  },
  {
   "cell_type": "markdown",
   "metadata": {},
   "source": [
    "# Import MNIST Data\n",
    "First script simply imports the MNIST training and test data"
   ]
  },
  {
   "cell_type": "code",
   "execution_count": 84,
   "metadata": {
    "collapsed": true
   },
   "outputs": [],
   "source": [
    "import numpy as np\n",
    "from numpy import linalg as LA\n",
    "from mpl_toolkits.mplot3d import Axes3D\n",
    "import matplotlib.pyplot as plt\n",
    "from matplotlib import cm\n",
    "from sklearn.decomposition import PCA \n",
    "\n",
    "import random\n",
    "import os\n",
    "import yaml\n",
    "import importlib\n",
    "\n",
    "import torch\n",
    "import torch.nn as nn\n",
    "import torchvision\n",
    "import torchvision.datasets as dsets\n",
    "import torchvision.transforms as transforms\n",
    "from torch.autograd import Variable\n",
    "from torch.utils.data.sampler import SubsetRandomSampler\n",
    "\n",
    "from skimage import data, color\n",
    "from skimage.transform import rescale, resize, downscale_local_mean\n",
    "\n",
    "\n",
    "device = torch.device(\"cuda:0\" if torch.cuda.is_available() else \"cpu\")\n",
    "\n",
    "# Parameters\n",
    "rep_batch_size = 20000\n",
    "test_batch_size = 2000\n",
    "\n",
    "# Set the maximum dimension of the linear manifolds for each class\n",
    "L=50\n",
    "\n",
    "# Sparsity value for pca\n",
    "numb_atoms = 500\n",
    "K=50\n",
    "\n",
    "# Load MNIST\n",
    "root = './data'\n",
    "download = True  # download MNIST dataset or not\n",
    "\n",
    "# Access MNIST dataset and define processing transforms to proces\n",
    "trans = transforms.Compose([transforms.ToTensor(), transforms.Normalize((0.1307,), (0.3081,))])\n",
    "# trans = transforms.Compose([transforms.ToTensor()])\n",
    "train_data = dsets.MNIST(root=root, train=True, transform=trans, download=download)\n",
    "test_data = dsets.MNIST(root=root, train=False, transform=trans)\n",
    "\n",
    "train_loader = torch.utils.data.DataLoader(\n",
    "                 dataset=train_data,\n",
    "                 batch_size=rep_batch_size,\n",
    "                 sampler = None,\n",
    "                 shuffle=True)\n",
    "\n",
    "\n",
    "test_loader = torch.utils.data.DataLoader(\n",
    "                dataset=test_data,\n",
    "                batch_size=test_batch_size,\n",
    "                shuffle=True)"
   ]
  },
  {
   "cell_type": "markdown",
   "metadata": {},
   "source": [
    "Prepare training and test data to be used in models and hypothesis tests."
   ]
  },
  {
   "cell_type": "code",
   "execution_count": 85,
   "metadata": {},
   "outputs": [],
   "source": [
    "# Format data so that can be run through model\n",
    "train_x, train_labels = next(iter(train_loader))\n",
    "b_train_x = (train_x.view(-1, 28*28)).to(device)   # batch x, shape (batch, 28*28)\n",
    "b_train_labels = (train_labels).to(device)\n",
    "# mean_train_x = torch.mean(temp, dim=0, keepdim=True)\n",
    "# b_train_x = temp - mean_train_x\n",
    "\n",
    "test_x, test_labels = next(iter(test_loader))\n",
    "b_test_x = (test_x.view(-1, 28*28)).to(device)   # batch x, shape (batch, 28*28)\n",
    "b_test_labels = (test_labels).to(device)\n",
    "# temp = (test_x.view(-1, 28*28)).to(device)   # batch x, shape (batch, 28*28)\n",
    "# mean_test_x = torch.mean(b_test_x, dim=0, keepdim=True)\n",
    "# b_test_x = temp - mean_train_x\n",
    "\n",
    "# # Plot picture of means removed\n",
    "# fig = plt.figure(figsize=(5,5))\n",
    "# plt.subplot(1, 2, 1)\n",
    "# plt.imshow(np.reshape(mean_train_x.cpu().data.numpy(), (28, 28)), cmap='gray')\n",
    "# plt.subplot(1, 2, 2)\n",
    "# plt.imshow(np.reshape(mean_test_x.cpu().data.numpy(), (28, 28)), cmap='gray')\n",
    "# plt.show()\n",
    "\n",
    "# Sort data into classes so that can be processed for classification test\n",
    "label_bin_data = {\"0\":[], \"1\":[], \"2\":[], \"3\":[], \"4\":[], \"5\":[], \"6\":[], \"7\":[], \"8\":[], \"9\":[]}\n",
    "data_by_class = {}\n",
    "test_label_bin_data = {\"0\":[], \"1\":[], \"2\":[], \"3\":[], \"4\":[], \"5\":[], \"6\":[], \"7\":[], \"8\":[], \"9\":[]}\n",
    "test_data_by_class = {}\n",
    "\n",
    "# Firstly sort data into different classes, where each dictionary member is a list of data points\n",
    "for i in range(b_train_labels.size()[0]):\n",
    "    label_bin_data[str(int(b_train_labels[i].item()))].append(b_train_x[i,:])\n",
    "\n",
    "# Format dictionary so each dictionary element is a matrix of data points\n",
    "for key, tensor_list in label_bin_data.items():\n",
    "    if len(label_bin_data[key]) > 0:\n",
    "        data_by_class[key] = torch.stack(label_bin_data[key], dim=0)\n",
    "\n",
    "# # Sort test data into different classes to observe different performance        \n",
    "# for i in range(b_test_labels.size()[0]):\n",
    "#     test_label_bin_data[str(int(b_test_labels[i].item()))].append(b_test_x[i,:])      \n",
    "\n",
    "# # Format dictionary so each dictionary element is a matrix of data points\n",
    "# for key, tensor_list in test_label_bin_data.items():\n",
    "#     if len(test_label_bin_data[key]) > 0:\n",
    "#         test_data_by_class[key] = torch.stack(test_label_bin_data[key], dim=0)\n",
    "        \n"
   ]
  },
  {
   "cell_type": "markdown",
   "metadata": {},
   "source": [
    "# IHT Model"
   ]
  },
  {
   "cell_type": "markdown",
   "metadata": {},
   "source": [
    "## IHT Reconstruction"
   ]
  },
  {
   "cell_type": "markdown",
   "metadata": {},
   "source": [
    "Firstly just load the IHT model and check few examples for visual inspection:"
   ]
  },
  {
   "cell_type": "code",
   "execution_count": 86,
   "metadata": {},
   "outputs": [
    {
     "data": {
      "image/png": "[encoded data removed]",
      "text/plain": [
       "<matplotlib.figure.Figure at 0x1c1efb7d68>"
      ]
     },
     "metadata": {},
     "output_type": "display_data"
    }
   ],
   "source": [
    "# Load mode\n",
    "import auxillary as aux\n",
    "importlib.reload(aux)\n",
    "\n",
    "N_TEST_IMG = 5\n",
    "\n",
    "iht_model_id = '478937' #'570864'\n",
    "iht_model_filename = 'IHT' + iht_model_id\n",
    "\n",
    "iht_model = aux.load_model(iht_model_filename)\n",
    "\n",
    "# Check that reconstructions etc. are working as they\n",
    "fig = plt.figure(figsize=(5, 2))\n",
    "# original data (first row) for viewing\n",
    "# view_data = Variable(test_data.test_data[:N_TEST_IMG].view(-1, 28*28).type(torch.FloatTensor)/255.)\n",
    "view_data = Variable(b_test_x.view(-1, 28*28).type(torch.FloatTensor)/255.)\n",
    "view_data = view_data.to(device)\n",
    "iht_test_decoded, encoded, errIHT = iht_model(view_data)\n",
    "\n",
    "for i in range(N_TEST_IMG):\n",
    "    plt.subplot(2,N_TEST_IMG,i+1)\n",
    "    plt.imshow(np.reshape(view_data.cpu().data.numpy()[i], (28, 28)), cmap='gray')\n",
    "\n",
    "for i in range(N_TEST_IMG):\n",
    "    plt.subplot(2,N_TEST_IMG,i+6)\n",
    "    plt.imshow(np.reshape(iht_test_decoded.cpu().data.numpy()[i], (28, 28)), cmap='gray')\n",
    "    \n",
    "plt.show()"
   ]
  },
  {
   "cell_type": "markdown",
   "metadata": {},
   "source": [
    "Calculate overall train and test reconstruction error:"
   ]
  },
  {
   "cell_type": "code",
   "execution_count": 87,
   "metadata": {},
   "outputs": [
    {
     "name": "stdout",
     "output_type": "stream",
     "text": [
      "Train error:  0.24826978147\n",
      "Test error:  0.246386528015\n"
     ]
    }
   ],
   "source": [
    "# Process entire data set for the reconstruction test\n",
    "train_decoding, train_encoding, errIHT_train = iht_model(b_train_x)\n",
    "test_decoding, test_encoding, errIHT_test = iht_model(b_test_x)\n",
    "\n",
    "print('Train error: ', errIHT_train[-1])\n",
    "print('Test error: ', errIHT_test[-1])"
   ]
  },
  {
   "cell_type": "markdown",
   "metadata": {},
   "source": [
    "## IHT Classification "
   ]
  },
  {
   "cell_type": "markdown",
   "metadata": {},
   "source": [
    "We are trying to calculate the low dimensional manifold that best represents each class in the encoded space space. To do this we calculate a set of encodings for each class, and then carry out SVD on this class to find a low dimensional linear manifold which each member of that class at least roughly lies on."
   ]
  },
  {
   "cell_type": "code",
   "execution_count": 88,
   "metadata": {
    "collapsed": true
   },
   "outputs": [],
   "source": [
    "from numpy import linalg as LA\n",
    "from sklearn.decomposition import PCA\n",
    "\n",
    "# Initialise the dictionaries to hold the encodings and span of the linear manifolds for each class\n",
    "iht_class_codes = {}\n",
    "iht_class_svd = {}\n",
    "\n",
    "# Process each class set of data points and calculate linear manifold\n",
    "for key, tensor_list in data_by_class.items():\n",
    "    if len(data_by_class[key]) > 0:       \n",
    "        _, iht_class_codes[key], _ = iht_model(data_by_class[key])        \n",
    "        temp_npy = np.asarray(iht_class_codes[key])\n",
    "        U, S, Vh = LA.svd(temp_npy.transpose(), full_matrices=True, compute_uv=True)        \n",
    "        iht_class_svd[key] = U[:,:L]\n",
    "#         print(data_by_class[key].shape)\n",
    "#         print(iht_class_codes[key].shape)\n",
    "#         print(U.shape)\n",
    "#         print(iht_class_svd[key].shape)"
   ]
  },
  {
   "cell_type": "markdown",
   "metadata": {},
   "source": [
    "With the linear manifold calculated for each class test by processing the test data set and classifying each test data point by projecting onto each class linear manifold, and assign it a label by choosing the class for which it has the smallest projection (is closest to)."
   ]
  },
  {
   "cell_type": "code",
   "execution_count": 89,
   "metadata": {},
   "outputs": [
    {
     "name": "stdout",
     "output_type": "stream",
     "text": [
      "torch.Size([2000, 500])\n",
      "IHT classification error rate via the projection method:  5.8 %\n"
     ]
    }
   ],
   "source": [
    "# Initialise matrix to store the projections of each data point onto each class\n",
    "x_test_proj = np.zeros((test_batch_size, 10))\n",
    "\n",
    "# Create sparse code for each test data point\n",
    "_, iht_test_codes,_ = iht_model(b_test_x)\n",
    "print(iht_test_codes.shape)\n",
    "\n",
    "for key, tensor_list in iht_class_svd.items():\n",
    "    if len(iht_class_svd[key]) > 0:        \n",
    "        x_test_proj[:, int(key)] = np.sqrt(np.sum(np.matmul(iht_test_codes, iht_class_svd[key])**2, axis=1))\n",
    "        \n",
    "label_estimates_iht = np.argmax(x_test_proj, axis=1)\n",
    "class_error_rate_iht = 100*(1 - np.sum(np.sum(label_estimates_iht == b_test_labels.data.numpy()))/test_batch_size)\n",
    "\n",
    "print(\"IHT classification error rate via the projection method: \", class_error_rate_iht, \"%\")"
   ]
  },
  {
   "cell_type": "markdown",
   "metadata": {},
   "source": [
    "Breakdown of classification error by class:"
   ]
  },
  {
   "cell_type": "code",
   "execution_count": 90,
   "metadata": {},
   "outputs": [
    {
     "name": "stdout",
     "output_type": "stream",
     "text": [
      "Error rate by class\n",
      "Class 0 - classification error: 1.1%\n",
      "Class 1 - classification error: 0.0%\n",
      "Class 2 - classification error: 10.5%\n",
      "Class 3 - classification error: 8.0%\n",
      "Class 4 - classification error: 5.1%\n",
      "Class 5 - classification error: 11.9%\n",
      "Class 6 - classification error: 2.1%\n",
      "Class 7 - classification error: 8.3%\n",
      "Class 8 - classification error: 7.1%\n",
      "Class 9 - classification error: 4.5%\n"
     ]
    }
   ],
   "source": [
    "true = b_test_labels.data.numpy()\n",
    "class_count = np.zeros((10,1))\n",
    "class_correct_count = np.zeros((10,1))\n",
    "\n",
    "for i in range(len(true)):\n",
    "    if label_estimates_iht[i] == true[i]:\n",
    "        class_correct_count[true[i]] = class_correct_count[true[i]] + 1\n",
    "    class_count[true[i]] = class_count[true[i]] + 1    \n",
    "    \n",
    "iht_class_error = 100*(1-np.divide(class_correct_count, class_count))\n",
    "\n",
    "print('Error rate by class')\n",
    "for i in range(10):\n",
    "    temp = float(iht_class_error[i])\n",
    "    print(\"Class {a:.0f} - classification error: {b:.1f}%\".format(a=i, b=temp))"
   ]
  },
  {
   "cell_type": "markdown",
   "metadata": {
    "collapsed": true
   },
   "source": [
    "# JIHT Model"
   ]
  },
  {
   "cell_type": "markdown",
   "metadata": {},
   "source": [
    "## JIHT Reconstruction"
   ]
  },
  {
   "cell_type": "markdown",
   "metadata": {
    "collapsed": true
   },
   "source": [
    "Firstly just load the JIHT model and check few examples for visual inspection."
   ]
  },
  {
   "cell_type": "code",
   "execution_count": 91,
   "metadata": {},
   "outputs": [
    {
     "data": {
      "image/png": "[encoded data removed]",
      "text/plain": [
       "<matplotlib.figure.Figure at 0x1c203b0908>"
      ]
     },
     "metadata": {},
     "output_type": "display_data"
    }
   ],
   "source": [
    "# Load mode\n",
    "import auxillary as aux\n",
    "importlib.reload(aux)\n",
    "\n",
    "N_TEST_IMG = 5\n",
    "\n",
    "jiht_model_id = '486709' #'330096' #'35576'#'330096''102095'\n",
    "jiht_model_filename = 'JIHT' + jiht_model_id\n",
    "\n",
    "jiht_model = aux.load_model(jiht_model_filename)\n",
    "\n",
    "# Check that reconstructions etc. are working as they\n",
    "fig = plt.figure(figsize=(5, 2))\n",
    "# original data (first row) for viewing\n",
    "# view_data = Variable(test_data.test_data[:N_TEST_IMG].view(-1, 28*28).type(torch.FloatTensor)/255.)\n",
    "view_data = Variable(b_test_x.view(-1, 28*28).type(torch.FloatTensor)/255.)\n",
    "view_data = view_data.to(device)\n",
    "jiht_test_decoded, encoded, errJIHT = jiht_model.forward(view_data)\n",
    "\n",
    "for i in range(N_TEST_IMG):\n",
    "    plt.subplot(2,N_TEST_IMG,i+1)\n",
    "    plt.imshow(np.reshape(view_data.cpu().data.numpy()[i], (28, 28)), cmap='gray')\n",
    "\n",
    "for i in range(N_TEST_IMG):\n",
    "    plt.subplot(2,N_TEST_IMG,i+6)\n",
    "    plt.imshow(np.reshape(jiht_test_decoded.cpu().data.numpy()[i], (28, 28)), cmap='gray')\n",
    "    \n",
    "plt.show()"
   ]
  },
  {
   "cell_type": "markdown",
   "metadata": {},
   "source": [
    "Calculate overall train and test reconstruction error:"
   ]
  },
  {
   "cell_type": "code",
   "execution_count": 92,
   "metadata": {},
   "outputs": [
    {
     "name": "stdout",
     "output_type": "stream",
     "text": [
      "Train error:  0.276716858149\n",
      "Test error:  0.268991529942\n"
     ]
    }
   ],
   "source": [
    "# Process entire data set for the reconstruction test\n",
    "train_decoding, train_encoding, errJIHT_train = jiht_model(b_train_x)\n",
    "test_decoding, test_encoding, errJIHT_test = jiht_model(b_test_x)\n",
    "\n",
    "print('Train error: ', errJIHT_train[-1])\n",
    "print('Test error: ', errJIHT_test[-1])"
   ]
  },
  {
   "cell_type": "markdown",
   "metadata": {},
   "source": [
    "## JIHT Classification"
   ]
  },
  {
   "cell_type": "markdown",
   "metadata": {},
   "source": [
    "We are trying to calculate the low dimensional manifold that best represents each class in the encoded space space. To do this we calculate a set of encodings for each class, and then carry out SVD on this class to find a low dimensional linear manifold which each member of that class at least roughly lies on."
   ]
  },
  {
   "cell_type": "code",
   "execution_count": 93,
   "metadata": {
    "collapsed": true
   },
   "outputs": [],
   "source": [
    "from numpy import linalg as LA\n",
    "from sklearn.decomposition import PCA\n",
    "\n",
    "# Initialise the dictionaries to hold the encodings and span of the linear manifolds for each class\n",
    "jiht_class_codes = {}\n",
    "jiht_class_svd = {}\n",
    "\n",
    "# Process each class set of data points and calculate linear manifold\n",
    "for key, tensor_list in data_by_class.items():\n",
    "    if len(data_by_class[key]) > 0:       \n",
    "        _, jiht_class_codes[key], _ = jiht_model.forward(data_by_class[key])        \n",
    "        temp_npy = np.asarray(jiht_class_codes[key])\n",
    "        U, S, Vh = LA.svd(temp_npy.transpose(), full_matrices=True, compute_uv=True)        \n",
    "        jiht_class_svd[key] = U[:,:L]"
   ]
  },
  {
   "cell_type": "markdown",
   "metadata": {},
   "source": [
    "With the linear manifold calculated for each class test by processing the test data set and classifying each test data point by projecting onto each class linear manifold, and assign it a label by choosing the class for which it has the smallest projection (is closest to)."
   ]
  },
  {
   "cell_type": "code",
   "execution_count": 94,
   "metadata": {},
   "outputs": [
    {
     "name": "stdout",
     "output_type": "stream",
     "text": [
      "JIHT classification error rate via the projection method:  5.8 %\n"
     ]
    }
   ],
   "source": [
    "# Initialise matrix to store the projections of each data point onto each class\n",
    "x_test_proj = np.zeros((test_batch_size, 10))\n",
    "\n",
    "# Create sparse code for each test data point\n",
    "_, jiht_test_codes,_ = jiht_model(b_test_x)\n",
    "\n",
    "for key, tensor_list in jiht_class_svd.items():\n",
    "    if len(jiht_class_svd[key]) > 0:        \n",
    "        x_test_proj[:, int(key)] = np.sqrt(np.sum(np.matmul(jiht_test_codes, jiht_class_svd[key])**2, axis=1))\n",
    "        \n",
    "label_estimates_jiht = np.argmax(x_test_proj, axis=1)\n",
    "class_error_rate_jiht = 100*(1 - np.sum(np.sum(label_estimates_jiht == b_test_labels.data.numpy()))/test_batch_size)\n",
    "\n",
    "print(\"JIHT classification error rate via the projection method: \", class_error_rate_jiht, \"%\")"
   ]
  },
  {
   "cell_type": "markdown",
   "metadata": {},
   "source": [
    "One reason why JIHT may be underperfoming in the classification task is that although classes are people clustered well, there may not be a natural mechanism to ensure that classes are well seperated. One way in which we can test this is firstly analyse if there is any particular class that has a higher than average classification error rate, the other is to observe the supports of each and look at the overlap"
   ]
  },
  {
   "cell_type": "code",
   "execution_count": 95,
   "metadata": {},
   "outputs": [
    {
     "name": "stdout",
     "output_type": "stream",
     "text": [
      "Error rate by class\n",
      "Class 0 - classification error: 0.6%\n",
      "Class 1 - classification error: 0.0%\n",
      "Class 2 - classification error: 6.4%\n",
      "Class 3 - classification error: 11.0%\n",
      "Class 4 - classification error: 4.6%\n",
      "Class 5 - classification error: 13.1%\n",
      "Class 6 - classification error: 2.6%\n",
      "Class 7 - classification error: 7.9%\n",
      "Class 8 - classification error: 7.1%\n",
      "Class 9 - classification error: 6.1%\n"
     ]
    }
   ],
   "source": [
    "true = b_test_labels.data.numpy()\n",
    "class_count = np.zeros((10,1))\n",
    "class_correct_count = np.zeros((10,1))\n",
    "\n",
    "for i in range(len(true)):\n",
    "    if label_estimates_jiht[i] == true[i]:\n",
    "        class_correct_count[true[i]] = class_correct_count[true[i]] + 1\n",
    "    class_count[true[i]] = class_count[true[i]] + 1    \n",
    "    \n",
    "jiht_class_error = 100*(1-np.divide(class_correct_count, class_count))\n",
    "\n",
    "print('Error rate by class')\n",
    "for i in range(10):\n",
    "    temp = float(jiht_class_error[i])\n",
    "    print(\"Class {a:.0f} - classification error: {b:.1f}%\".format(a=i, b=temp))"
   ]
  },
  {
   "cell_type": "markdown",
   "metadata": {},
   "source": [
    "# PCA Model"
   ]
  },
  {
   "cell_type": "markdown",
   "metadata": {},
   "source": [
    "## PCA Reconstruction"
   ]
  },
  {
   "cell_type": "markdown",
   "metadata": {},
   "source": [
    "To create a parrallel and fair benchmark with PCA we consider calculating in some sense an equivalent dictionary of linear basis elements as to those we learn with the IHT and JIHT during training. Then we enforce sparsity by projecting each test data point onto each of the principal components, and reconstruct by combining the largest 25 using the inner product as the coefficient."
   ]
  },
  {
   "cell_type": "code",
   "execution_count": 96,
   "metadata": {},
   "outputs": [
    {
     "name": "stdout",
     "output_type": "stream",
     "text": [
      "(500, 784)\n"
     ]
    }
   ],
   "source": [
    "# Calculate PCA 'dictionary'\n",
    "pca = PCA(n_components=numb_atoms)\n",
    "pca.fit_transform(b_train_x)\n",
    "princ_components = pca.components_\n",
    "print(princ_components.shape)"
   ]
  },
  {
   "cell_type": "markdown",
   "metadata": {},
   "source": [
    "Now that we have the 'dictionary' of vectors (principal components we calculate the inner product between each of the test data points and the atoms of the PCA dictionary. We reconstruct by doing the combining the K principal components in a linear combination with their respective inner products with the data point acting as coefficients. Might be better in some sense to find the coefficients by solving a linear system for each coefficient? This would either mean solving the thin matrix system for each data point or doing soem sort of sparse coding setup."
   ]
  },
  {
   "cell_type": "code",
   "execution_count": 97,
   "metadata": {},
   "outputs": [
    {
     "data": {
      "image/png": "[encoded data removed]",
      "text/plain": [
       "<matplotlib.figure.Figure at 0x1085c1e80>"
      ]
     },
     "metadata": {},
     "output_type": "display_data"
    }
   ],
   "source": [
    "N_TEST_IMG = 5\n",
    "\n",
    "train_inner_products = np.matmul(princ_components, np.transpose(b_train_x.data.cpu().numpy()))\n",
    "order = np.sort(np.abs(train_inner_products), axis=0)\n",
    "Kth_largest_elements = order[K,:]\n",
    "mask = train_inner_products>Kth_largest_elements\n",
    "pca_train_decoded = np.transpose(np.matmul(np.transpose(princ_components), mask*train_inner_products))\n",
    "\n",
    "test_inner_products = np.matmul(princ_components, np.transpose(b_test_x.data.cpu().numpy()))\n",
    "order = np.sort(np.abs(test_inner_products), axis=0)\n",
    "Kth_largest_elements = order[K,:]\n",
    "mask = test_inner_products>Kth_largest_elements\n",
    "pca_test_decoded = np.transpose(np.matmul(np.transpose(princ_components), mask*test_inner_products))\n",
    "\n",
    "# Check that reconstructions etc. are working as they\n",
    "fig = plt.figure(figsize=(5, 2))\n",
    "# original data (first row) for viewing\n",
    "# view_data = Variable(test_data.test_data[:N_TEST_IMG].view(-1, 28*28).type(torch.FloatTensor)/255.)\n",
    "view_data = Variable(b_test_x.view(-1, 28*28).type(torch.FloatTensor)/255.)\n",
    "view_data = view_data.to(device)\n",
    "\n",
    "for i in range(N_TEST_IMG):\n",
    "    plt.subplot(2,N_TEST_IMG,i+1)\n",
    "    plt.imshow(np.reshape(view_data.cpu().data.numpy()[i], (28, 28)), cmap='gray')\n",
    "\n",
    "for i in range(N_TEST_IMG):\n",
    "    plt.subplot(2,N_TEST_IMG,i+6)\n",
    "    plt.imshow(np.reshape(pca_test_decoded[i], (28, 28)), cmap='gray')\n",
    "    \n",
    "plt.show()"
   ]
  },
  {
   "cell_type": "markdown",
   "metadata": {},
   "source": [
    "The reconstruction error across the test set is as follows."
   ]
  },
  {
   "cell_type": "code",
   "execution_count": 98,
   "metadata": {},
   "outputs": [
    {
     "name": "stdout",
     "output_type": "stream",
     "text": [
      "Train error:  0.650400993532\n",
      "Test error:  0.645532561295\n"
     ]
    }
   ],
   "source": [
    "pca_train_error = np.linalg.norm(np.asarray(b_train_x) - pca_train_decoded,'fro') / np.linalg.norm(np.asarray(b_train_x),'fro')\n",
    "pca_test_error = np.linalg.norm(np.asarray(b_test_x) - pca_test_decoded,'fro') / np.linalg.norm(np.asarray(b_test_x),'fro')\n",
    "print('Train error: ', pca_train_error)\n",
    "print('Test error: ', pca_test_error)"
   ]
  },
  {
   "cell_type": "markdown",
   "metadata": {},
   "source": [
    "## PCA Classification - method 1 (based on reconstruction filters)"
   ]
  },
  {
   "cell_type": "markdown",
   "metadata": {},
   "source": [
    "This method is in some sense closer and fairer to what we do with IHT and JIHT. Here we project each test data point onto the set of pca components we have extracted and are using as a dictionary. Then we we take the SVD of this in the representation space to see weather the PCA forward pass at least approximatly maps data points onto lower dimension linear manifolds."
   ]
  },
  {
   "cell_type": "code",
   "execution_count": 99,
   "metadata": {
    "collapsed": true
   },
   "outputs": [],
   "source": [
    "from numpy import linalg as LA\n",
    "from sklearn.decomposition import PCA\n",
    "\n",
    "# Initialise the dictionaries to hold the encodings and span of the linear manifolds for each class\n",
    "pca1_class_codes = {}\n",
    "pca1_class_svd = {}\n",
    "\n",
    "# Process each class set of data points and calculate linear manifold\n",
    "for key, tensor_list in data_by_class.items():\n",
    "    if len(data_by_class[key]) > 0:       \n",
    "        test_inner_products= np.matmul(princ_components, np.transpose(data_by_class[key].data.cpu().numpy()))\n",
    "        order = np.sort(np.abs(test_inner_products), axis=0)\n",
    "        Kth_largest_elements = order[K,:]\n",
    "        mask = test_inner_products>Kth_largest_elements\n",
    "        pca1_class_codes[key] = mask*test_inner_products\n",
    "        temp_npy = np.asarray(pca1_class_codes[key])\n",
    "        U, S, Vh = LA.svd(temp_npy.transpose(), full_matrices=True, compute_uv=True)        \n",
    "        pca1_class_svd[key] = U[:,:L]"
   ]
  },
  {
   "cell_type": "markdown",
   "metadata": {},
   "source": [
    "With the linear manifold calculated for each class, test by processing the test data set and classifying each test data point by projecting onto each class linear manifold, and assign it a label by choosing the class for which it has the smallest projection (is closest to). The representation we have is essentially thresholding using the 500 largest PCA components from the training data set."
   ]
  },
  {
   "cell_type": "code",
   "execution_count": 111,
   "metadata": {},
   "outputs": [
    {
     "ename": "ValueError",
     "evalue": "shapes (500,2000) and (1980,50) not aligned: 2000 (dim 1) != 1980 (dim 0)",
     "output_type": "error",
     "traceback": [
      "\u001b[0;31m---------------------------------------------------------------------------\u001b[0m",
      "\u001b[0;31mValueError\u001b[0m                                Traceback (most recent call last)",
      "\u001b[0;32m<ipython-input-111-636bcba36a40>\u001b[0m in \u001b[0;36m<module>\u001b[0;34m()\u001b[0m\n\u001b[1;32m     10\u001b[0m \u001b[0;32mfor\u001b[0m \u001b[0mkey\u001b[0m\u001b[0;34m,\u001b[0m \u001b[0mtensor_list\u001b[0m \u001b[0;32min\u001b[0m \u001b[0mpca1_class_svd\u001b[0m\u001b[0;34m.\u001b[0m\u001b[0mitems\u001b[0m\u001b[0;34m(\u001b[0m\u001b[0;34m)\u001b[0m\u001b[0;34m:\u001b[0m\u001b[0;34m\u001b[0m\u001b[0m\n\u001b[1;32m     11\u001b[0m     \u001b[0;32mif\u001b[0m \u001b[0mlen\u001b[0m\u001b[0;34m(\u001b[0m\u001b[0mpca1_class_svd\u001b[0m\u001b[0;34m[\u001b[0m\u001b[0mkey\u001b[0m\u001b[0;34m]\u001b[0m\u001b[0;34m)\u001b[0m \u001b[0;34m>\u001b[0m \u001b[0;36m0\u001b[0m\u001b[0;34m:\u001b[0m\u001b[0;34m\u001b[0m\u001b[0m\n\u001b[0;32m---> 12\u001b[0;31m         \u001b[0mx_test_proj\u001b[0m\u001b[0;34m[\u001b[0m\u001b[0;34m:\u001b[0m\u001b[0;34m,\u001b[0m \u001b[0mint\u001b[0m\u001b[0;34m(\u001b[0m\u001b[0mkey\u001b[0m\u001b[0;34m)\u001b[0m\u001b[0;34m]\u001b[0m \u001b[0;34m=\u001b[0m \u001b[0mnp\u001b[0m\u001b[0;34m.\u001b[0m\u001b[0msqrt\u001b[0m\u001b[0;34m(\u001b[0m\u001b[0mnp\u001b[0m\u001b[0;34m.\u001b[0m\u001b[0msum\u001b[0m\u001b[0;34m(\u001b[0m\u001b[0mnp\u001b[0m\u001b[0;34m.\u001b[0m\u001b[0mmatmul\u001b[0m\u001b[0;34m(\u001b[0m\u001b[0mpca1_test_rep\u001b[0m \u001b[0;34m,\u001b[0m \u001b[0mpca1_class_svd\u001b[0m\u001b[0;34m[\u001b[0m\u001b[0mkey\u001b[0m\u001b[0;34m]\u001b[0m\u001b[0;34m)\u001b[0m\u001b[0;34m**\u001b[0m\u001b[0;36m2\u001b[0m\u001b[0;34m,\u001b[0m \u001b[0maxis\u001b[0m\u001b[0;34m=\u001b[0m\u001b[0;36m1\u001b[0m\u001b[0;34m)\u001b[0m\u001b[0;34m)\u001b[0m\u001b[0;34m\u001b[0m\u001b[0m\n\u001b[0m\u001b[1;32m     13\u001b[0m \u001b[0;34m\u001b[0m\u001b[0m\n\u001b[1;32m     14\u001b[0m \u001b[0mlabel_estimates_pca1\u001b[0m \u001b[0;34m=\u001b[0m \u001b[0mnp\u001b[0m\u001b[0;34m.\u001b[0m\u001b[0margmax\u001b[0m\u001b[0;34m(\u001b[0m\u001b[0mx_test_proj\u001b[0m\u001b[0;34m,\u001b[0m \u001b[0maxis\u001b[0m\u001b[0;34m=\u001b[0m\u001b[0;36m1\u001b[0m\u001b[0;34m)\u001b[0m\u001b[0;34m\u001b[0m\u001b[0m\n",
      "\u001b[0;31mValueError\u001b[0m: shapes (500,2000) and (1980,50) not aligned: 2000 (dim 1) != 1980 (dim 0)"
     ]
    }
   ],
   "source": [
    "# Initialise matrix to store the projections of each data point onto each class\n",
    "x_test_proj = np.zeros((test_batch_size, 10))\n",
    "\n",
    "test_inner_products= np.matmul(princ_components, np.transpose(b_test_x.data.cpu().numpy()))\n",
    "order = np.sort(np.abs(test_inner_products), axis=0)\n",
    "Kth_largest_elements = order[K,:]\n",
    "mask = test_inner_products>Kth_largest_elements\n",
    "pca1_test_rep = test_inner_products*mask\n",
    "\n",
    "for key, tensor_list in pca1_class_svd.items():\n",
    "    if len(pca1_class_svd[key]) > 0:       \n",
    "        x_test_proj[:, int(key)] = np.sqrt(np.sum(np.matmul(pca1_test_rep , pca1_class_svd[key])**2, axis=1))\n",
    "        \n",
    "label_estimates_pca1 = np.argmax(x_test_proj, axis=1)\n",
    "class_error_rate_pca1 = 100*(1 - np.sum(np.sum(label_estimates_pca1 == b_test_labels.data.numpy()))/test_batch_size)\n",
    "\n",
    "print(\"PCA classification error rate via the projection method: \", class_error_rate_pca1, \"%\")"
   ]
  },
  {
   "cell_type": "markdown",
   "metadata": {},
   "source": [
    "## PCA Classification - method 2 (not based on reconstruction filters)"
   ]
  },
  {
   "cell_type": "markdown",
   "metadata": {},
   "source": [
    "To make a fair benchmark for classification we once again use the sorted training data to create linear manifolds based of the largest L PCA components."
   ]
  },
  {
   "cell_type": "code",
   "execution_count": 101,
   "metadata": {
    "collapsed": true
   },
   "outputs": [],
   "source": [
    "pca_class = {}\n",
    "\n",
    "for key, tensor_list in data_by_class.items():\n",
    "    if len(data_by_class[key]) > 0:               \n",
    "        temp_npy = np.asarray(data_by_class[key])\n",
    "        pca = PCA(n_components=L)\n",
    "        pca.fit_transform(temp_npy)\n",
    "        pca_class[key] = np.transpose(pca.components_)"
   ]
  },
  {
   "cell_type": "markdown",
   "metadata": {},
   "source": [
    "Now we perform analagous steps as before, however instead of projecting into some encoding space and our linear manifolds are in the image space in the case of PCA. We simply project each image onto each class linear manifold and assign it the label of the class that is closest. We could see this as assigning the principal components of a set of data points belonging to a class as the features or atoms for a given class. This is kind of similar to the idea of assigining a set of features to each filter. If we were to do this for IHT it would mean we train the particular filters for a class based on the examples of that class in the batch. Over many layers this belays the point that we have feature sharing, which is a key benefit of the efficiency and efficacy of CNNs. "
   ]
  },
  {
   "cell_type": "code",
   "execution_count": 102,
   "metadata": {},
   "outputs": [
    {
     "name": "stdout",
     "output_type": "stream",
     "text": [
      "PCA classification error rate via the projection method:  4.95 %\n"
     ]
    }
   ],
   "source": [
    "# Initialise matrix to store the projections of each data point onto each class\n",
    "x_test_proj = np.zeros((test_batch_size, 10))\n",
    "\n",
    "for key, tensor_list in pca_class.items():\n",
    "    if len(pca_class[key]) > 0:       \n",
    "        x_test_proj[:, int(key)] = np.sqrt(np.sum(np.matmul(b_test_x, pca_class[key])**2, axis=1))\n",
    "        \n",
    "label_estimates_pca = np.argmax(x_test_proj, axis=1)\n",
    "class_error_rate_pca = 100*(1 - np.sum(np.sum(label_estimates_pca == b_test_labels.data.numpy()))/test_batch_size)\n",
    "\n",
    "print(\"PCA classification error rate via the projection method: \", class_error_rate_pca, \"%\")"
   ]
  },
  {
   "cell_type": "markdown",
   "metadata": {},
   "source": [
    "It is informative to view the breakdown in error in terms of by class:"
   ]
  },
  {
   "cell_type": "code",
   "execution_count": 103,
   "metadata": {},
   "outputs": [
    {
     "name": "stdout",
     "output_type": "stream",
     "text": [
      "Error rate by class\n",
      "Class 0 - classification error: 0.0%\n",
      "Class 1 - classification error: 3.4%\n",
      "Class 2 - classification error: 5.9%\n",
      "Class 3 - classification error: 7.0%\n",
      "Class 4 - classification error: 4.1%\n",
      "Class 5 - classification error: 7.7%\n",
      "Class 6 - classification error: 2.6%\n",
      "Class 7 - classification error: 7.4%\n",
      "Class 8 - classification error: 4.9%\n",
      "Class 9 - classification error: 6.1%\n"
     ]
    }
   ],
   "source": [
    "true = b_test_labels.data.numpy()\n",
    "class_count = np.zeros((10,1))\n",
    "class_correct_count = np.zeros((10,1))\n",
    "\n",
    "for i in range(len(true)):\n",
    "    if label_estimates_pca[i] == true[i]:\n",
    "        class_correct_count[true[i]] = class_correct_count[true[i]] + 1\n",
    "    class_count[true[i]] = class_count[true[i]] + 1    \n",
    "    \n",
    "pca_class_error = 100*(1-np.divide(class_correct_count, class_count))\n",
    "\n",
    "print('Error rate by class')\n",
    "for i in range(10):\n",
    "    temp = float(pca_class_error[i])\n",
    "    print(\"Class {a:.0f} - classification error: {b:.1f}%\".format(a=i, b=temp))"
   ]
  },
  {
   "cell_type": "markdown",
   "metadata": {},
   "source": [
    "# Side by side comparison"
   ]
  },
  {
   "cell_type": "markdown",
   "metadata": {},
   "source": [
    "## Reconstruction"
   ]
  },
  {
   "cell_type": "code",
   "execution_count": 104,
   "metadata": {},
   "outputs": [
    {
     "data": {
      "text/plain": [
       "<matplotlib.figure.Figure at 0x1c1fe78b38>"
      ]
     },
     "metadata": {},
     "output_type": "display_data"
    },
    {
     "data": {
      "image/png": "[encoded data removed]",
      "text/plain": [
       "<matplotlib.figure.Figure at 0x1c1fe784e0>"
      ]
     },
     "metadata": {},
     "output_type": "display_data"
    }
   ],
   "source": [
    "N_TEST_IMG = 5\n",
    "\n",
    "fig = plt.figure(figsize=(5, 4))\n",
    "plt.figure(figsize=(20,20))\n",
    "view_data = Variable(b_test_x.view(-1, 28*28).type(torch.FloatTensor)/255.)\n",
    "view_data = view_data.to(device)\n",
    "\n",
    "for i in range(N_TEST_IMG):\n",
    "    plt.subplot(4,N_TEST_IMG,i+1)\n",
    "    plt.imshow(np.reshape(view_data.cpu().data.numpy()[i], (28, 28)), cmap='gray')\n",
    "    if i == 0:\n",
    "        plt.ylabel(\"Original\")\n",
    "\n",
    "for i in range(N_TEST_IMG):\n",
    "    plt.subplot(4,N_TEST_IMG,i+6)\n",
    "    plt.imshow(np.reshape(iht_test_decoded.cpu().data.numpy()[i], (28, 28)), cmap='gray')\n",
    "    if i == 0:\n",
    "        plt.ylabel(\"IHT\")\n",
    "        \n",
    "for i in range(N_TEST_IMG):\n",
    "    plt.subplot(4,N_TEST_IMG,i+11)\n",
    "    plt.imshow(np.reshape(jiht_test_decoded.cpu().data.numpy()[i], (28, 28)), cmap='gray')\n",
    "    if i == 0:\n",
    "        plt.ylabel(\"JIHT\")\n",
    "  \n",
    "for i in range(N_TEST_IMG):\n",
    "    plt.subplot(4,N_TEST_IMG,i+16)\n",
    "    plt.imshow(np.reshape(pca_test_decoded[i], (28, 28)), cmap='gray')\n",
    "    if i == 0:\n",
    "        plt.ylabel(\"PCA\")\n"
   ]
  },
  {
   "cell_type": "code",
   "execution_count": 105,
   "metadata": {},
   "outputs": [
    {
     "name": "stdout",
     "output_type": "stream",
     "text": [
      "IHT - train error: 24.83%, test error: 24.64%\n",
      "JIHT - train error: 27.67%, test error: 26.90%\n",
      "PCA - train error: 65.04%, test error: 64.55%\n"
     ]
    }
   ],
   "source": [
    "print(\"IHT - train error: {a:.2f}%, test error: {b:.2f}%\".format(a=100*errIHT_train[-1], b=100*errIHT_test[-1]))\n",
    "print(\"JIHT - train error: {a:.2f}%, test error: {b:.2f}%\".format(a=100*errJIHT_train[-1], b=100*errJIHT_test[-1]))\n",
    "print(\"PCA - train error: {a:.2f}%, test error: {b:.2f}%\".format(a=100*pca_train_error, b=100*pca_test_error))"
   ]
  },
  {
   "cell_type": "markdown",
   "metadata": {},
   "source": [
    "## Classification"
   ]
  },
  {
   "cell_type": "code",
   "execution_count": 106,
   "metadata": {
    "collapsed": true
   },
   "outputs": [],
   "source": [
    "l = [5, 10, 15, 20, 25, int(L)]\n",
    "classification_error_rate_iht = np.zeros((len(l), 1))\n",
    "x_test_iht_proj = np.zeros((test_batch_size, 10))\n",
    "\n",
    "classification_error_rate_jiht = np.zeros((len(l), 1))\n",
    "x_test_jiht_proj = np.zeros((test_batch_size, 10))\n",
    "\n",
    "classification_error_rate_pca = np.zeros((len(l), 1))\n",
    "x_test_pca_proj = np.zeros((test_batch_size, 10))\n",
    "\n",
    "index = 0\n",
    "for i in l:\n",
    "    for key, tensor_list in iht_class_svd.items():\n",
    "        if len(iht_class_svd[key]) > 0:\n",
    "            x_test_iht_proj[:, int(key)] = np.sqrt(np.sum(np.matmul(iht_test_codes, iht_class_svd[key][:, :i])**2, axis=1))\n",
    "    label_estimates_iht = np.argmax(x_test_iht_proj, axis=1)\n",
    "    classification_error_rate_iht[index] = 100*(1 - np.sum(np.sum(label_estimates_iht == b_test_labels.data.numpy()))/test_batch_size)\n",
    "    \n",
    "    for key, tensor_list in jiht_class_svd.items():\n",
    "        if len(jiht_class_svd[key]) > 0:        \n",
    "            x_test_jiht_proj[:, int(key)] = np.sqrt(np.sum(np.matmul(jiht_test_codes, jiht_class_svd[key][:, :i])**2, axis=1))\n",
    "    label_estimates_jiht = np.argmax(x_test_jiht_proj, axis=1)\n",
    "    classification_error_rate_jiht[index] = 100*(1 - np.sum(np.sum(label_estimates_jiht == b_test_labels.data.numpy()))/test_batch_size)\n",
    "    \n",
    "    for key, tensor_list in pca_class.items():\n",
    "        if len(pca_class[key]) > 0:       \n",
    "            x_test_pca_proj[:, int(key)] = np.sqrt(np.sum(np.matmul(b_test_x, pca_class[key][:, :i])**2, axis=1))\n",
    "    label_estimates_pca = np.argmax(x_test_pca_proj, axis=1)\n",
    "    classification_error_rate_pca[index] = 100*(1 - np.sum(np.sum(label_estimates_pca == b_test_labels.data.numpy()))/test_batch_size)\n",
    "    \n",
    "    index = index+1"
   ]
  },
  {
   "cell_type": "code",
   "execution_count": 107,
   "metadata": {},
   "outputs": [
    {
     "data": {
      "image/png": "[encoded data removed]",
      "text/plain": [
       "<matplotlib.figure.Figure at 0x1c1c6bd2b0>"
      ]
     },
     "metadata": {},
     "output_type": "display_data"
    }
   ],
   "source": [
    "plt.figure(figsize=(10,10))\n",
    "plt.plot(l, classification_error_rate_iht, label='IHT')\n",
    "plt.plot(l, classification_error_rate_jiht, label='JIHT')\n",
    "plt.plot(l,  classification_error_rate_pca, label='PCA')\n",
    "plt.legend()\n",
    "plt.ylabel('Test classification Error (%)')\n",
    "plt.show()"
   ]
  },
  {
   "cell_type": "code",
   "execution_count": 108,
   "metadata": {},
   "outputs": [
    {
     "data": {
      "image/png": "[encoded data removed]",
      "text/plain": [
       "<matplotlib.figure.Figure at 0x1a16a4c5c0>"
      ]
     },
     "metadata": {},
     "output_type": "display_data"
    }
   ],
   "source": [
    "class_axis = np.arange(10)\n",
    "plt.figure(figsize=(10,10))\n",
    "plt.scatter(class_axis, iht_class_error, label='IHT')\n",
    "plt.scatter(class_axis, jiht_class_error, label='JIHT')\n",
    "plt.scatter(class_axis, pca_class_error, label='PCA')\n",
    "plt.legend()\n",
    "plt.ylabel('Test classification Error (%)')\n",
    "plt.show()"
   ]
  }
 ],
 "metadata": {
  "kernelspec": {
   "display_name": "Python (mlvm)",
   "language": "python",
   "name": "mlvm"
  },
  "language_info": {
   "codemirror_mode": {
    "name": "ipython",
    "version": 3
   },
   "file_extension": ".py",
   "mimetype": "text/x-python",
   "name": "python",
   "nbconvert_exporter": "python",
   "pygments_lexer": "ipython3",
   "version": "3.6.6"
  }
 },
 "nbformat": 4,
 "nbformat_minor": 2
}
