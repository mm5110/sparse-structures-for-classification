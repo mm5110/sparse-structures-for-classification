{
 "cells": [
  {
   "cell_type": "code",
   "execution_count": 1,
   "metadata": {},
   "outputs": [],
   "source": [
    "import torch\n",
    "import torch.nn as nn\n",
    "from torch.autograd import Variable\n",
    "import torch.utils.data as Data\n",
    "import torch.nn.functional as F\n",
    "import torchvision\n",
    "import matplotlib.pyplot as plt\n",
    "from matplotlib import cm\n",
    "import numpy as np\n",
    "import time\n",
    "import progressbar\n",
    "import importlib\n",
    "import random\n",
    "# torch.manual_seed(1)    # reproducible\n",
    "plt.style.use('default')\n",
    "%matplotlib inline\n",
    "\n",
    "import pdb\n",
    "\n",
    "import Models_SVHN_J as mds\n",
    "\n",
    "# Hyper Parameters\n",
    "EPOCH = 50\n",
    "BATCH_SIZE = 250\n",
    "DOWNLOAD = True\n",
    "m1 = 64\n",
    "m2 = 128\n",
    "m3 = 512\n",
    "cudaopt = True\n",
    "\n",
    "EPS = 1e-7"
   ]
  },
  {
   "cell_type": "code",
   "execution_count": 7,
   "metadata": {},
   "outputs": [
    {
     "name": "stdout",
     "output_type": "stream",
     "text": [
      "Using downloaded and verified file: /data\\train_32x32.mat\n",
      "Using downloaded and verified file: /data\\test_32x32.mat\n"
     ]
    }
   ],
   "source": [
    "train_data = torchvision.datasets.SVHN(\n",
    "    root='/data',\n",
    "    split = 'train',\n",
    "    transform = torchvision.transforms.Compose([\n",
    "#                     torchvision.transforms.RandomCrop(32, padding=4),\n",
    "                    torchvision.transforms.ToTensor(),\n",
    "                    torchvision.transforms.Normalize((0.5, 0.5, 0.5), (0.5, 0.5, 0.5)),\n",
    "                ]),\n",
    "    download=DOWNLOAD,                        # download it if you don't have it\n",
    ")\n",
    "# LIMITING TRAINING DATA\n",
    "# Ntrain = int(10e3)\n",
    "# train_set = np.random.permutation(60000)[0:Ntrain]\n",
    "# train_data.data = train_data.data[torch.LongTensor(train_set),:,:]\n",
    "# train_data.labels = train_data.labels[torch.LongTensor(train_set)]\n",
    "\n",
    "test_data = torchvision.datasets.SVHN(\n",
    "    root='/data',\n",
    "    split = 'test',                                     # this is testing data\n",
    "    transform=torchvision.transforms.Compose([\n",
    "                    torchvision.transforms.ToTensor(),\n",
    "                    torchvision.transforms.Normalize((0.5, 0.5, 0.5), (0.5, 0.5, 0.5)),\n",
    "                ]),\n",
    "    download=DOWNLOAD,                        # download it if you don't have it\n",
    ")\n",
    "\n",
    "# Data Loader for easy mini-batch return in training, the image batch shape will be (50, 1, 28, 28)\n",
    "train_loader = Data.DataLoader(dataset=train_data, batch_size=BATCH_SIZE, shuffle=True)\n",
    "test_loader = Data.DataLoader(dataset=test_data, batch_size=BATCH_SIZE, shuffle=True)"
   ]
  },
  {
   "cell_type": "markdown",
   "metadata": {},
   "source": [
    "### Model Baseline"
   ]
  },
  {
   "cell_type": "code",
   "execution_count": 8,
   "metadata": {},
   "outputs": [
    {
     "name": "stderr",
     "output_type": "stream",
     "text": [
      "100% (100 of 100) |#######################| Elapsed Time: 0:05:25 Time: 0:05:25\n",
      "N/A% (0 of 100) |                        | Elapsed Time: 0:00:00 ETA:  --:--:--"
     ]
    },
    {
     "name": "stdout",
     "output_type": "stream",
     "text": [
      "\n",
      "\t\t\t\t\tTraining Baseline\n",
      "\n"
     ]
    },
    {
     "name": "stderr",
     "output_type": "stream",
     "text": [
      "C:\\Users\\Jere\\Anaconda3\\lib\\site-packages\\ipykernel_launcher.py:50: UserWarning: invalid index of a 0-dim tensor. This will be an error in PyTorch 0.5. Use tensor.item() to convert a 0-dim tensor to a Python number\n",
      " 78% (78.0 of 100) |#################     | Elapsed Time: 0:07:16 ETA:  0:02:05"
     ]
    },
    {
     "ename": "KeyboardInterrupt",
     "evalue": "",
     "output_type": "error",
     "traceback": [
      "\u001b[1;31m---------------------------------------------------------------------------\u001b[0m",
      "\u001b[1;31mKeyboardInterrupt\u001b[0m                         Traceback (most recent call last)",
      "\u001b[1;32m<ipython-input-8-de703d70e673>\u001b[0m in \u001b[0;36m<module>\u001b[1;34m()\u001b[0m\n\u001b[0;32m     42\u001b[0m     \u001b[0mcorrect\u001b[0m \u001b[1;33m=\u001b[0m \u001b[1;36m0\u001b[0m\u001b[1;33m\u001b[0m\u001b[0m\n\u001b[0;32m     43\u001b[0m     \u001b[0mtest_loss\u001b[0m \u001b[1;33m=\u001b[0m \u001b[1;36m0\u001b[0m\u001b[1;33m\u001b[0m\u001b[0m\n\u001b[1;32m---> 44\u001b[1;33m     \u001b[1;32mfor\u001b[0m \u001b[0mstep\u001b[0m\u001b[1;33m,\u001b[0m \u001b[1;33m(\u001b[0m\u001b[0mx\u001b[0m\u001b[1;33m,\u001b[0m \u001b[0my\u001b[0m\u001b[1;33m)\u001b[0m \u001b[1;32min\u001b[0m \u001b[0menumerate\u001b[0m\u001b[1;33m(\u001b[0m\u001b[0mtest_loader\u001b[0m\u001b[1;33m)\u001b[0m\u001b[1;33m:\u001b[0m\u001b[1;33m\u001b[0m\u001b[0m\n\u001b[0m\u001b[0;32m     45\u001b[0m         \u001b[0mb_x\u001b[0m \u001b[1;33m=\u001b[0m \u001b[0mVariable\u001b[0m\u001b[1;33m(\u001b[0m\u001b[0mx\u001b[0m\u001b[1;33m)\u001b[0m   \u001b[1;31m# batch x, shape (batch, 28*28)\u001b[0m\u001b[1;33m\u001b[0m\u001b[0m\n\u001b[0;32m     46\u001b[0m         \u001b[0mb_y\u001b[0m \u001b[1;33m=\u001b[0m \u001b[0mVariable\u001b[0m\u001b[1;33m(\u001b[0m\u001b[0my\u001b[0m\u001b[1;33m)\u001b[0m               \u001b[1;31m# batch label\u001b[0m\u001b[1;33m\u001b[0m\u001b[0m\n",
      "\u001b[1;32m~\\Anaconda3\\lib\\site-packages\\torch\\utils\\data\\dataloader.py\u001b[0m in \u001b[0;36m__next__\u001b[1;34m(self)\u001b[0m\n\u001b[0;32m    262\u001b[0m         \u001b[1;32mif\u001b[0m \u001b[0mself\u001b[0m\u001b[1;33m.\u001b[0m\u001b[0mnum_workers\u001b[0m \u001b[1;33m==\u001b[0m \u001b[1;36m0\u001b[0m\u001b[1;33m:\u001b[0m  \u001b[1;31m# same-process loading\u001b[0m\u001b[1;33m\u001b[0m\u001b[0m\n\u001b[0;32m    263\u001b[0m             \u001b[0mindices\u001b[0m \u001b[1;33m=\u001b[0m \u001b[0mnext\u001b[0m\u001b[1;33m(\u001b[0m\u001b[0mself\u001b[0m\u001b[1;33m.\u001b[0m\u001b[0msample_iter\u001b[0m\u001b[1;33m)\u001b[0m  \u001b[1;31m# may raise StopIteration\u001b[0m\u001b[1;33m\u001b[0m\u001b[0m\n\u001b[1;32m--> 264\u001b[1;33m             \u001b[0mbatch\u001b[0m \u001b[1;33m=\u001b[0m \u001b[0mself\u001b[0m\u001b[1;33m.\u001b[0m\u001b[0mcollate_fn\u001b[0m\u001b[1;33m(\u001b[0m\u001b[1;33m[\u001b[0m\u001b[0mself\u001b[0m\u001b[1;33m.\u001b[0m\u001b[0mdataset\u001b[0m\u001b[1;33m[\u001b[0m\u001b[0mi\u001b[0m\u001b[1;33m]\u001b[0m \u001b[1;32mfor\u001b[0m \u001b[0mi\u001b[0m \u001b[1;32min\u001b[0m \u001b[0mindices\u001b[0m\u001b[1;33m]\u001b[0m\u001b[1;33m)\u001b[0m\u001b[1;33m\u001b[0m\u001b[0m\n\u001b[0m\u001b[0;32m    265\u001b[0m             \u001b[1;32mif\u001b[0m \u001b[0mself\u001b[0m\u001b[1;33m.\u001b[0m\u001b[0mpin_memory\u001b[0m\u001b[1;33m:\u001b[0m\u001b[1;33m\u001b[0m\u001b[0m\n\u001b[0;32m    266\u001b[0m                 \u001b[0mbatch\u001b[0m \u001b[1;33m=\u001b[0m \u001b[0mpin_memory_batch\u001b[0m\u001b[1;33m(\u001b[0m\u001b[0mbatch\u001b[0m\u001b[1;33m)\u001b[0m\u001b[1;33m\u001b[0m\u001b[0m\n",
      "\u001b[1;32m~\\Anaconda3\\lib\\site-packages\\torch\\utils\\data\\dataloader.py\u001b[0m in \u001b[0;36m<listcomp>\u001b[1;34m(.0)\u001b[0m\n\u001b[0;32m    262\u001b[0m         \u001b[1;32mif\u001b[0m \u001b[0mself\u001b[0m\u001b[1;33m.\u001b[0m\u001b[0mnum_workers\u001b[0m \u001b[1;33m==\u001b[0m \u001b[1;36m0\u001b[0m\u001b[1;33m:\u001b[0m  \u001b[1;31m# same-process loading\u001b[0m\u001b[1;33m\u001b[0m\u001b[0m\n\u001b[0;32m    263\u001b[0m             \u001b[0mindices\u001b[0m \u001b[1;33m=\u001b[0m \u001b[0mnext\u001b[0m\u001b[1;33m(\u001b[0m\u001b[0mself\u001b[0m\u001b[1;33m.\u001b[0m\u001b[0msample_iter\u001b[0m\u001b[1;33m)\u001b[0m  \u001b[1;31m# may raise StopIteration\u001b[0m\u001b[1;33m\u001b[0m\u001b[0m\n\u001b[1;32m--> 264\u001b[1;33m             \u001b[0mbatch\u001b[0m \u001b[1;33m=\u001b[0m \u001b[0mself\u001b[0m\u001b[1;33m.\u001b[0m\u001b[0mcollate_fn\u001b[0m\u001b[1;33m(\u001b[0m\u001b[1;33m[\u001b[0m\u001b[0mself\u001b[0m\u001b[1;33m.\u001b[0m\u001b[0mdataset\u001b[0m\u001b[1;33m[\u001b[0m\u001b[0mi\u001b[0m\u001b[1;33m]\u001b[0m \u001b[1;32mfor\u001b[0m \u001b[0mi\u001b[0m \u001b[1;32min\u001b[0m \u001b[0mindices\u001b[0m\u001b[1;33m]\u001b[0m\u001b[1;33m)\u001b[0m\u001b[1;33m\u001b[0m\u001b[0m\n\u001b[0m\u001b[0;32m    265\u001b[0m             \u001b[1;32mif\u001b[0m \u001b[0mself\u001b[0m\u001b[1;33m.\u001b[0m\u001b[0mpin_memory\u001b[0m\u001b[1;33m:\u001b[0m\u001b[1;33m\u001b[0m\u001b[0m\n\u001b[0;32m    266\u001b[0m                 \u001b[0mbatch\u001b[0m \u001b[1;33m=\u001b[0m \u001b[0mpin_memory_batch\u001b[0m\u001b[1;33m(\u001b[0m\u001b[0mbatch\u001b[0m\u001b[1;33m)\u001b[0m\u001b[1;33m\u001b[0m\u001b[0m\n",
      "\u001b[1;32m~\\Anaconda3\\lib\\site-packages\\torchvision\\datasets\\svhn.py\u001b[0m in \u001b[0;36m__getitem__\u001b[1;34m(self, index)\u001b[0m\n\u001b[0;32m     97\u001b[0m \u001b[1;33m\u001b[0m\u001b[0m\n\u001b[0;32m     98\u001b[0m         \u001b[1;32mif\u001b[0m \u001b[0mself\u001b[0m\u001b[1;33m.\u001b[0m\u001b[0mtransform\u001b[0m \u001b[1;32mis\u001b[0m \u001b[1;32mnot\u001b[0m \u001b[1;32mNone\u001b[0m\u001b[1;33m:\u001b[0m\u001b[1;33m\u001b[0m\u001b[0m\n\u001b[1;32m---> 99\u001b[1;33m             \u001b[0mimg\u001b[0m \u001b[1;33m=\u001b[0m \u001b[0mself\u001b[0m\u001b[1;33m.\u001b[0m\u001b[0mtransform\u001b[0m\u001b[1;33m(\u001b[0m\u001b[0mimg\u001b[0m\u001b[1;33m)\u001b[0m\u001b[1;33m\u001b[0m\u001b[0m\n\u001b[0m\u001b[0;32m    100\u001b[0m \u001b[1;33m\u001b[0m\u001b[0m\n\u001b[0;32m    101\u001b[0m         \u001b[1;32mif\u001b[0m \u001b[0mself\u001b[0m\u001b[1;33m.\u001b[0m\u001b[0mtarget_transform\u001b[0m \u001b[1;32mis\u001b[0m \u001b[1;32mnot\u001b[0m \u001b[1;32mNone\u001b[0m\u001b[1;33m:\u001b[0m\u001b[1;33m\u001b[0m\u001b[0m\n",
      "\u001b[1;32m~\\Anaconda3\\lib\\site-packages\\torchvision\\transforms\\transforms.py\u001b[0m in \u001b[0;36m__call__\u001b[1;34m(self, img)\u001b[0m\n\u001b[0;32m     40\u001b[0m     \u001b[1;32mdef\u001b[0m \u001b[0m__call__\u001b[0m\u001b[1;33m(\u001b[0m\u001b[0mself\u001b[0m\u001b[1;33m,\u001b[0m \u001b[0mimg\u001b[0m\u001b[1;33m)\u001b[0m\u001b[1;33m:\u001b[0m\u001b[1;33m\u001b[0m\u001b[0m\n\u001b[0;32m     41\u001b[0m         \u001b[1;32mfor\u001b[0m \u001b[0mt\u001b[0m \u001b[1;32min\u001b[0m \u001b[0mself\u001b[0m\u001b[1;33m.\u001b[0m\u001b[0mtransforms\u001b[0m\u001b[1;33m:\u001b[0m\u001b[1;33m\u001b[0m\u001b[0m\n\u001b[1;32m---> 42\u001b[1;33m             \u001b[0mimg\u001b[0m \u001b[1;33m=\u001b[0m \u001b[0mt\u001b[0m\u001b[1;33m(\u001b[0m\u001b[0mimg\u001b[0m\u001b[1;33m)\u001b[0m\u001b[1;33m\u001b[0m\u001b[0m\n\u001b[0m\u001b[0;32m     43\u001b[0m         \u001b[1;32mreturn\u001b[0m \u001b[0mimg\u001b[0m\u001b[1;33m\u001b[0m\u001b[0m\n\u001b[0;32m     44\u001b[0m \u001b[1;33m\u001b[0m\u001b[0m\n",
      "\u001b[1;32m~\\Anaconda3\\lib\\site-packages\\torchvision\\transforms\\transforms.py\u001b[0m in \u001b[0;36m__call__\u001b[1;34m(self, pic)\u001b[0m\n\u001b[0;32m     59\u001b[0m             \u001b[0mTensor\u001b[0m\u001b[1;33m:\u001b[0m \u001b[0mConverted\u001b[0m \u001b[0mimage\u001b[0m\u001b[1;33m.\u001b[0m\u001b[1;33m\u001b[0m\u001b[0m\n\u001b[0;32m     60\u001b[0m         \"\"\"\n\u001b[1;32m---> 61\u001b[1;33m         \u001b[1;32mreturn\u001b[0m \u001b[0mF\u001b[0m\u001b[1;33m.\u001b[0m\u001b[0mto_tensor\u001b[0m\u001b[1;33m(\u001b[0m\u001b[0mpic\u001b[0m\u001b[1;33m)\u001b[0m\u001b[1;33m\u001b[0m\u001b[0m\n\u001b[0m\u001b[0;32m     62\u001b[0m \u001b[1;33m\u001b[0m\u001b[0m\n\u001b[0;32m     63\u001b[0m \u001b[1;33m\u001b[0m\u001b[0m\n",
      "\u001b[1;32m~\\Anaconda3\\lib\\site-packages\\torchvision\\transforms\\functional.py\u001b[0m in \u001b[0;36mto_tensor\u001b[1;34m(pic)\u001b[0m\n\u001b[0;32m     69\u001b[0m     \u001b[1;32melse\u001b[0m\u001b[1;33m:\u001b[0m\u001b[1;33m\u001b[0m\u001b[0m\n\u001b[0;32m     70\u001b[0m         \u001b[0mnchannel\u001b[0m \u001b[1;33m=\u001b[0m \u001b[0mlen\u001b[0m\u001b[1;33m(\u001b[0m\u001b[0mpic\u001b[0m\u001b[1;33m.\u001b[0m\u001b[0mmode\u001b[0m\u001b[1;33m)\u001b[0m\u001b[1;33m\u001b[0m\u001b[0m\n\u001b[1;32m---> 71\u001b[1;33m     \u001b[0mimg\u001b[0m \u001b[1;33m=\u001b[0m \u001b[0mimg\u001b[0m\u001b[1;33m.\u001b[0m\u001b[0mview\u001b[0m\u001b[1;33m(\u001b[0m\u001b[0mpic\u001b[0m\u001b[1;33m.\u001b[0m\u001b[0msize\u001b[0m\u001b[1;33m[\u001b[0m\u001b[1;36m1\u001b[0m\u001b[1;33m]\u001b[0m\u001b[1;33m,\u001b[0m \u001b[0mpic\u001b[0m\u001b[1;33m.\u001b[0m\u001b[0msize\u001b[0m\u001b[1;33m[\u001b[0m\u001b[1;36m0\u001b[0m\u001b[1;33m]\u001b[0m\u001b[1;33m,\u001b[0m \u001b[0mnchannel\u001b[0m\u001b[1;33m)\u001b[0m\u001b[1;33m\u001b[0m\u001b[0m\n\u001b[0m\u001b[0;32m     72\u001b[0m     \u001b[1;31m# put it from HWC to CHW format\u001b[0m\u001b[1;33m\u001b[0m\u001b[1;33m\u001b[0m\u001b[0m\n\u001b[0;32m     73\u001b[0m     \u001b[1;31m# yikes, this transpose takes 80% of the loading time/CPU\u001b[0m\u001b[1;33m\u001b[0m\u001b[1;33m\u001b[0m\u001b[0m\n",
      "\u001b[1;31mKeyboardInterrupt\u001b[0m: "
     ]
    }
   ],
   "source": [
    "Loss_test_0 = np.zeros((EPOCH,))\n",
    "Acc_test_0 = np.zeros((EPOCH,))\n",
    "Acc_train_0 = np.zeros((EPOCH,))\n",
    "\n",
    "print('\\n\\t\\t\\t\\t\\tTraining Baseline\\n')\n",
    "\n",
    "T = 0\n",
    "RHO = 0\n",
    "\n",
    "model_0 = mds.ML_ISTA_NET(m1,m2,m3)\n",
    "if cudaopt:\n",
    "    model_0.cuda()\n",
    "\n",
    "optimizer = torch.optim.Adam(model_0.parameters(), lr = 0.0001, eps = EPS,weight_decay=1e-3)\n",
    "bar = progressbar.ProgressBar()\n",
    "\n",
    "for epoch in range(EPOCH):\n",
    "\n",
    "    bar.update((epoch+1)/EPOCH*100)\n",
    "    # train 1 epoch\n",
    "    model_0.train()\n",
    "    train_correct = 0\n",
    "    for step, (x, y) in enumerate(train_loader):\n",
    "        b_x = Variable(x)   # batch x, shape (batch, 28*28)\n",
    "        b_y = Variable(y)               # batch label\n",
    "        if cudaopt:\n",
    "            b_y, b_x = b_y.cuda(), b_x.cuda()\n",
    "        encoded, scores = model_0(b_x,T,RHO)\n",
    "        \n",
    "        train_pred = scores.data.max(1, keepdim=True)[1]\n",
    "        train_correct += train_pred.eq(b_y.data.view_as(train_pred)).long().cpu().sum()\n",
    "        \n",
    "        loss = F.nll_loss(scores, b_y)      # negative log likelyhood\n",
    "        optimizer.zero_grad()               # clear gradients for this training step\n",
    "        loss.backward()                     # backpropagation, compute gradients\n",
    "        optimizer.step()                    # apply gradients\n",
    "    \n",
    "    Acc_train_0[epoch] =  100 * float(train_correct) /float(len(train_loader.dataset))\n",
    "    \n",
    "    # testing\n",
    "    model_0.eval()\n",
    "    correct = 0\n",
    "    test_loss = 0\n",
    "    for step, (x, y) in enumerate(test_loader):\n",
    "        b_x = Variable(x)   # batch x, shape (batch, 28*28)\n",
    "        b_y = Variable(y)               # batch label\n",
    "        if cudaopt:\n",
    "            b_y, b_x = b_y.cuda(), b_x.cuda()\n",
    "        gamma, scores = model_0(b_x,T,RHO)\n",
    "        test_loss += F.nll_loss(scores, b_y, size_average=False).data[0]\n",
    "        pred = scores.data.max(1, keepdim=True)[1]\n",
    "        correct += pred.eq(b_y.data.view_as(pred)).long().cpu().sum()\n",
    "        \n",
    "    test_loss /= len(test_loader.dataset)\n",
    "    Loss_test_0[epoch] = test_loss\n",
    "    Acc_test_0[epoch] =  100 * float(correct) /float(len(test_loader.dataset))\n",
    "    \n",
    "# torch.save(model_0.state_dict(), 'cnn_model.pt')"
   ]
  },
  {
   "cell_type": "markdown",
   "metadata": {},
   "source": [
    "### Joint ISTA"
   ]
  },
  {
   "cell_type": "code",
   "execution_count": 17,
   "metadata": {},
   "outputs": [
    {
     "name": "stderr",
     "output_type": "stream",
     "text": [
      "100% (100 of 100) |#######################| Elapsed Time: 0:02:18 Time: 0:02:18\n",
      "N/A% (0 of 100) |                        | Elapsed Time: 0:00:00 ETA:  --:--:--"
     ]
    },
    {
     "name": "stdout",
     "output_type": "stream",
     "text": [
      "\n",
      "\t\t\t\t\tTraining ML-JISTA \n",
      "\n"
     ]
    },
    {
     "name": "stderr",
     "output_type": "stream",
     "text": [
      "C:\\Users\\Jere\\Anaconda3\\lib\\site-packages\\ipykernel_launcher.py:49: UserWarning: invalid index of a 0-dim tensor. This will be an error in PyTorch 0.5. Use tensor.item() to convert a 0-dim tensor to a Python number\n",
      "100% (100.0 of 100) |#####################| Elapsed Time: 0:13:35 ETA:  0:00:00"
     ]
    }
   ],
   "source": [
    "Loss_test_jista_r = np.zeros((EPOCH,))\n",
    "Acc_test_jista_r = np.zeros((EPOCH,))\n",
    "Acc_train_jista_r = np.zeros((EPOCH,))\n",
    "\n",
    "print('\\n\\t\\t\\t\\t\\tTraining ML-JISTA \\n')\n",
    "\n",
    "model_jnn = mds.ML_JISTA_NET_J(m1,m2,m3)\n",
    "if cudaopt:\n",
    "    model_jnn.cuda()\n",
    "\n",
    "optimizer = torch.optim.Adam(model_jnn.parameters(), lr = 0.0001, eps = EPS,weight_decay=2e-1)\n",
    "bar = progressbar.ProgressBar()\n",
    "\n",
    "for epoch in range(EPOCH):\n",
    "#     print(\"Epoch: \" + str(int(epoch)))\n",
    "    bar.update((epoch+1)/EPOCH*100)\n",
    "    # train 1 epoch\n",
    "    model_jnn.train()\n",
    "    \n",
    "    train_correct = 0\n",
    "    for step, (x, y) in enumerate(train_loader):\n",
    "        b_x = Variable(x)   # batch x, shape (batch, 28*28)\n",
    "        b_y = Variable(y)               # batch label\n",
    "        if cudaopt:\n",
    "            b_y, b_x = b_y.cuda(), b_x.cuda()\n",
    "        encoded, scores = model_jnn.forward_joint(b_x, b_y, T, RHO)\n",
    "        classes_aux = b_y\n",
    "        \n",
    "        train_pred = scores.data.max(1, keepdim=True)[1]\n",
    "        train_correct += train_pred.eq(b_y.data.view_as(train_pred)).long().cpu().sum()\n",
    "        \n",
    "        loss = F.nll_loss(scores, b_y)      # negative log likelyhood\n",
    "        optimizer.zero_grad()               # clear gradients for this training step\n",
    "        loss.backward()                     # backpropagation, compute gradients\n",
    "        optimizer.step()                    # apply gradients\n",
    "    \n",
    "    Acc_train_jista_r[epoch] =  100 * float(train_correct) /float(len(train_loader.dataset))    \n",
    "        \n",
    "    # testing\n",
    "    model_jnn.eval()\n",
    "    correct = 0\n",
    "    test_loss = 0\n",
    "    for step, (x, y) in enumerate(test_loader):\n",
    "        b_x = Variable(x)   # batch x, shape (batch, 28*28)\n",
    "        b_y = Variable(y)               # batch label\n",
    "        if cudaopt:\n",
    "            b_y, b_x = b_y.cuda(), b_x.cuda()\n",
    "        gamma, scores = model_jnn.forward(b_x,T,RHO)\n",
    "        test_loss += F.nll_loss(scores, b_y, size_average=False).data[0]\n",
    "        pred = scores.data.max(1, keepdim=True)[1]\n",
    "        correct += pred.eq(b_y.data.view_as(pred)).long().cpu().sum()\n",
    "        \n",
    "    test_loss /= len(test_loader.dataset)\n",
    "    Loss_test_jista_r[epoch] = test_loss\n",
    "    Acc_test_jista_r[epoch] =  100 * float(correct) /float(len(test_loader.dataset))\n",
    "#     print(\"Performance at epoch \" + str(int(epoch)) + \": \" + str(Acc_test_ista_r[epoch]))\n",
    "    \n",
    "# torch.save(model_jnn.state_dict(), 'mljista_model.pt')"
   ]
  },
  {
   "cell_type": "code",
   "execution_count": null,
   "metadata": {},
   "outputs": [],
   "source": [
    "# Displaying joint sparsity pattern:\n",
    "\n",
    "plt.figure(figsize=(20,20))\n",
    "plt.spy(np.concatenate((encoded[classes_aux==0,:].data.cpu().numpy().T,\n",
    "                        encoded[classes_aux==1,:].data.cpu().numpy().T,\n",
    "                        encoded[classes_aux==2,:].data.cpu().numpy().T,\n",
    "                        encoded[classes_aux==3,:].data.cpu().numpy().T,\n",
    "                        encoded[classes_aux==4,:].data.cpu().numpy().T,\n",
    "                        encoded[classes_aux==5,:].data.cpu().numpy().T),\n",
    "                       axis=1))\n"
   ]
  },
  {
   "cell_type": "markdown",
   "metadata": {},
   "source": [
    "## Plot accuracies"
   ]
  },
  {
   "cell_type": "code",
   "execution_count": 19,
   "metadata": {},
   "outputs": [
    {
     "data": {
      "image/png": "[encoded data removed]",
      "text/plain": [
       "<matplotlib.figure.Figure at 0x157e1ac8940>"
      ]
     },
     "metadata": {},
     "output_type": "display_data"
    }
   ],
   "source": [
    "plt.style.use('default')\n",
    "fig = plt.figure(figsize=(6,4))\n",
    "plt.plot(Acc_train_0, ':b', linewidth = 2,label='ML-ISTA train')\n",
    "plt.plot(Acc_test_0,'b',linewidth = 2,label='ML-ISTA test')\n",
    "# plt.plot(Acc_test_ista_r, linewidth = 2,label = 'ML-ISTA')\n",
    "plt.plot(Acc_train_jista_r,':r', linewidth = 2,label = 'ML-JISTA train')\n",
    "plt.plot(Acc_test_jista_r,'r', linewidth = 2,label = 'ML-JISTA test')\n",
    "# plt.plot(Acc_test_fista_r, linewidth = 2,label = 'ML-FISTA')\n",
    "plt.grid('on')\n",
    "plt.title('Train Accuracy - 0 Unfoldings')\n",
    "plt.legend()\n",
    "plt.axis([0, EPOCH-1, 0, 101])\n",
    "plt.show()"
   ]
  },
  {
   "cell_type": "markdown",
   "metadata": {},
   "source": [
    "## Robustness?"
   ]
  },
  {
   "cell_type": "code",
   "execution_count": 7,
   "metadata": {},
   "outputs": [],
   "source": [
    "SIGMAS = np.arange(0,200,10)\n",
    "Acc_0_Robustness = np.zeros((len(SIGMAS),1))\n",
    "Acc_JS_Robustness = np.zeros((len(SIGMAS),1))\n",
    "\n",
    "for s in range(len(SIGMAS)):\n",
    "    \n",
    "    model_0.eval()\n",
    "    correct_0 = 0\n",
    "    correct_js = 0\n",
    "    for step, (x, y) in enumerate(test_loader):\n",
    "        x = x + SIGMAS[s]/255 * torch.randn(x.shape)\n",
    "        b_x = Variable(x)   # batch x, shape (batch, 28*28)\n",
    "        b_y = Variable(y)               # batch label\n",
    "        if cudaopt:\n",
    "            b_y, b_x = b_y.cuda(), b_x.cuda()\n",
    "        # baseline\n",
    "        gamma, scores = model_0.forward(b_x,T,RHO)\n",
    "        pred = scores.data.max(1, keepdim=True)[1]\n",
    "        correct_0 += pred.eq(b_y.data.view_as(pred)).long().cpu().sum()\n",
    "        # Joint Sparse\n",
    "        gamma, scores = model_jnn.forward(b_x,T,RHO)\n",
    "        pred = scores.data.max(1, keepdim=True)[1]\n",
    "        correct_js += pred.eq(b_y.data.view_as(pred)).long().cpu().sum()\n",
    "\n",
    "    Acc_0_Robustness[s] =  100 * float(correct_0) /float(len(test_loader.dataset))\n",
    "    Acc_JS_Robustness[s] =  100 * float(correct_js) /float(len(test_loader.dataset))\n",
    "\n",
    "    "
   ]
  },
  {
   "cell_type": "code",
   "execution_count": 8,
   "metadata": {},
   "outputs": [
    {
     "data": {
      "image/png": "[encoded data removed]",
      "text/plain": [
       "<matplotlib.figure.Figure at 0x216192dd0b8>"
      ]
     },
     "metadata": {},
     "output_type": "display_data"
    }
   ],
   "source": [
    "# Plots\n",
    "plt.style.use('default')\n",
    "fig = plt.figure(figsize=(6,4))\n",
    "plt.plot(SIGMAS,Acc_0_Robustness, linewidth = 2,label='ISTA train')\n",
    "plt.plot(SIGMAS,Acc_JS_Robustness, linewidth = 2,label='JISTA test')\n",
    "plt.grid('on')\n",
    "plt.title('Robustness - 0 Unfoldings')\n",
    "plt.legend()\n",
    "plt.show()"
   ]
  },
  {
   "cell_type": "markdown",
   "metadata": {},
   "source": [
    "## Visualise global filters of baseline"
   ]
  },
  {
   "cell_type": "code",
   "execution_count": null,
   "metadata": {},
   "outputs": [],
   "source": [
    "cols = 10\n",
    "rows = 10\n",
    "indices = random.sample(range(m3), cols*rows)\n",
    "\n",
    "dict1 = model_0.W3\n",
    "atom1_dim = dict1.shape[3]\n",
    "print(dict1.shape)\n",
    "\n",
    "dict2 = F.conv_transpose2d(dict1, model_0.W2, stride=model_0.strd1, dilation=1)\n",
    "atom2_dim = dict2.shape[3]\n",
    "print(dict2.shape)\n",
    "\n",
    "dict3 = F.conv_transpose2d(dict2, model_0.W1, stride=model_0.strd2, dilation=1)\n",
    "atom3_dim = dict3.shape[3]\n",
    "print(dict3.shape)\n",
    "\n",
    "idx = 1\n",
    "plt.figure(figsize=(10,10))\n",
    "for j in range(rows):\n",
    "    for i in range(cols):\n",
    "        plt.subplot(cols,rows,idx)\n",
    "        plt.imshow(np.reshape(dict3.cpu().data.numpy()[idx-1], (atom3_dim, atom3_dim)), cmap='gray')\n",
    "        plt.axis('off')\n",
    "        idx+=1\n",
    "\n",
    "plt.show()"
   ]
  },
  {
   "cell_type": "markdown",
   "metadata": {},
   "source": [
    "## Visualise global filters of JISTA"
   ]
  },
  {
   "cell_type": "code",
   "execution_count": null,
   "metadata": {},
   "outputs": [],
   "source": [
    "cols = 10\n",
    "rows = 10\n",
    "indices = random.sample(range(m3), cols*rows)\n",
    "\n",
    "dict1 = model_jnn.W3\n",
    "atom1_dim = dict1.shape[3]\n",
    "print(dict1.shape)\n",
    "\n",
    "dict2 = F.conv_transpose2d(dict1, model_jnn.W2, stride=model_jnn.strd1, dilation=1)\n",
    "atom2_dim = dict2.shape[3]\n",
    "print(dict2.shape)\n",
    "\n",
    "dict3 = F.conv_transpose2d(dict2, model_jnn.W1, stride=model_jnn.strd2, dilation=1)\n",
    "atom3_dim = dict3.shape[3]\n",
    "print(dict3.shape)\n",
    "\n",
    "idx = 1\n",
    "plt.figure(figsize=(10,10))\n",
    "for j in range(rows):\n",
    "    for i in range(cols):\n",
    "        plt.subplot(cols,rows,idx)\n",
    "        plt.imshow(np.reshape(dict3.cpu().data.numpy()[idx-1], (atom3_dim, atom3_dim)), cmap='gray')\n",
    "        plt.axis('off')\n",
    "        idx+=1\n",
    "\n",
    "plt.show()"
   ]
  }
 ],
 "metadata": {
  "kernelspec": {
   "display_name": "Python 3",
   "language": "python",
   "name": "python3"
  },
  "language_info": {
   "codemirror_mode": {
    "name": "ipython",
    "version": 3
   },
   "file_extension": ".py",
   "mimetype": "text/x-python",
   "name": "python",
   "nbconvert_exporter": "python",
   "pygments_lexer": "ipython3",
   "version": "3.6.3"
  }
 },
 "nbformat": 4,
 "nbformat_minor": 2
}
